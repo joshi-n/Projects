{
 "cells": [
  {
   "cell_type": "code",
   "execution_count": 1,
   "id": "739bc881",
   "metadata": {},
   "outputs": [],
   "source": [
    "import pandas as pd\n",
    "import numpy as np\n",
    "import matplotlib.pyplot as plt\n",
    "import seaborn as sns\n",
    "\n",
    "pd. set_option(\"display.max_columns\", None) "
   ]
  },
  {
   "cell_type": "code",
   "execution_count": 2,
   "id": "6c0ecfa0",
   "metadata": {},
   "outputs": [],
   "source": [
    "train=pd.read_csv('/Users/Nishchay/Python/5. Titanic/Data/train.csv')\n",
    "test=pd.read_csv('/Users/Nishchay/Python/5. Titanic/Data/test.csv') "
   ]
  },
  {
   "cell_type": "code",
   "execution_count": 3,
   "id": "3889d78e",
   "metadata": {},
   "outputs": [
    {
     "data": {
      "text/plain": [
       "(891, 12)"
      ]
     },
     "execution_count": 3,
     "metadata": {},
     "output_type": "execute_result"
    }
   ],
   "source": [
    "train.shape"
   ]
  },
  {
   "cell_type": "code",
   "execution_count": 4,
   "id": "f09797b0",
   "metadata": {},
   "outputs": [
    {
     "data": {
      "text/html": [
       "<div>\n",
       "<style scoped>\n",
       "    .dataframe tbody tr th:only-of-type {\n",
       "        vertical-align: middle;\n",
       "    }\n",
       "\n",
       "    .dataframe tbody tr th {\n",
       "        vertical-align: top;\n",
       "    }\n",
       "\n",
       "    .dataframe thead th {\n",
       "        text-align: right;\n",
       "    }\n",
       "</style>\n",
       "<table border=\"1\" class=\"dataframe\">\n",
       "  <thead>\n",
       "    <tr style=\"text-align: right;\">\n",
       "      <th></th>\n",
       "      <th>PassengerId</th>\n",
       "      <th>Survived</th>\n",
       "      <th>Pclass</th>\n",
       "      <th>Name</th>\n",
       "      <th>Sex</th>\n",
       "      <th>Age</th>\n",
       "      <th>SibSp</th>\n",
       "      <th>Parch</th>\n",
       "      <th>Ticket</th>\n",
       "      <th>Fare</th>\n",
       "      <th>Cabin</th>\n",
       "      <th>Embarked</th>\n",
       "    </tr>\n",
       "  </thead>\n",
       "  <tbody>\n",
       "    <tr>\n",
       "      <th>0</th>\n",
       "      <td>1</td>\n",
       "      <td>0</td>\n",
       "      <td>3</td>\n",
       "      <td>Braund, Mr. Owen Harris</td>\n",
       "      <td>male</td>\n",
       "      <td>22.0</td>\n",
       "      <td>1</td>\n",
       "      <td>0</td>\n",
       "      <td>A/5 21171</td>\n",
       "      <td>7.2500</td>\n",
       "      <td>NaN</td>\n",
       "      <td>S</td>\n",
       "    </tr>\n",
       "    <tr>\n",
       "      <th>1</th>\n",
       "      <td>2</td>\n",
       "      <td>1</td>\n",
       "      <td>1</td>\n",
       "      <td>Cumings, Mrs. John Bradley (Florence Briggs Th...</td>\n",
       "      <td>female</td>\n",
       "      <td>38.0</td>\n",
       "      <td>1</td>\n",
       "      <td>0</td>\n",
       "      <td>PC 17599</td>\n",
       "      <td>71.2833</td>\n",
       "      <td>C85</td>\n",
       "      <td>C</td>\n",
       "    </tr>\n",
       "    <tr>\n",
       "      <th>2</th>\n",
       "      <td>3</td>\n",
       "      <td>1</td>\n",
       "      <td>3</td>\n",
       "      <td>Heikkinen, Miss. Laina</td>\n",
       "      <td>female</td>\n",
       "      <td>26.0</td>\n",
       "      <td>0</td>\n",
       "      <td>0</td>\n",
       "      <td>STON/O2. 3101282</td>\n",
       "      <td>7.9250</td>\n",
       "      <td>NaN</td>\n",
       "      <td>S</td>\n",
       "    </tr>\n",
       "    <tr>\n",
       "      <th>3</th>\n",
       "      <td>4</td>\n",
       "      <td>1</td>\n",
       "      <td>1</td>\n",
       "      <td>Futrelle, Mrs. Jacques Heath (Lily May Peel)</td>\n",
       "      <td>female</td>\n",
       "      <td>35.0</td>\n",
       "      <td>1</td>\n",
       "      <td>0</td>\n",
       "      <td>113803</td>\n",
       "      <td>53.1000</td>\n",
       "      <td>C123</td>\n",
       "      <td>S</td>\n",
       "    </tr>\n",
       "    <tr>\n",
       "      <th>4</th>\n",
       "      <td>5</td>\n",
       "      <td>0</td>\n",
       "      <td>3</td>\n",
       "      <td>Allen, Mr. William Henry</td>\n",
       "      <td>male</td>\n",
       "      <td>35.0</td>\n",
       "      <td>0</td>\n",
       "      <td>0</td>\n",
       "      <td>373450</td>\n",
       "      <td>8.0500</td>\n",
       "      <td>NaN</td>\n",
       "      <td>S</td>\n",
       "    </tr>\n",
       "  </tbody>\n",
       "</table>\n",
       "</div>"
      ],
      "text/plain": [
       "   PassengerId  Survived  Pclass  \\\n",
       "0            1         0       3   \n",
       "1            2         1       1   \n",
       "2            3         1       3   \n",
       "3            4         1       1   \n",
       "4            5         0       3   \n",
       "\n",
       "                                                Name     Sex   Age  SibSp  \\\n",
       "0                            Braund, Mr. Owen Harris    male  22.0      1   \n",
       "1  Cumings, Mrs. John Bradley (Florence Briggs Th...  female  38.0      1   \n",
       "2                             Heikkinen, Miss. Laina  female  26.0      0   \n",
       "3       Futrelle, Mrs. Jacques Heath (Lily May Peel)  female  35.0      1   \n",
       "4                           Allen, Mr. William Henry    male  35.0      0   \n",
       "\n",
       "   Parch            Ticket     Fare Cabin Embarked  \n",
       "0      0         A/5 21171   7.2500   NaN        S  \n",
       "1      0          PC 17599  71.2833   C85        C  \n",
       "2      0  STON/O2. 3101282   7.9250   NaN        S  \n",
       "3      0            113803  53.1000  C123        S  \n",
       "4      0            373450   8.0500   NaN        S  "
      ]
     },
     "execution_count": 4,
     "metadata": {},
     "output_type": "execute_result"
    }
   ],
   "source": [
    "train.head()"
   ]
  },
  {
   "cell_type": "code",
   "execution_count": 5,
   "id": "0a00c745",
   "metadata": {
    "scrolled": true
   },
   "outputs": [
    {
     "data": {
      "text/plain": [
       "PassengerId      int64\n",
       "Survived         int64\n",
       "Pclass           int64\n",
       "Name            object\n",
       "Sex             object\n",
       "Age            float64\n",
       "SibSp            int64\n",
       "Parch            int64\n",
       "Ticket          object\n",
       "Fare           float64\n",
       "Cabin           object\n",
       "Embarked        object\n",
       "dtype: object"
      ]
     },
     "execution_count": 5,
     "metadata": {},
     "output_type": "execute_result"
    }
   ],
   "source": [
    "train.dtypes"
   ]
  },
  {
   "cell_type": "markdown",
   "id": "4161cf36",
   "metadata": {},
   "source": [
    "# # Dropping extra features."
   ]
  },
  {
   "cell_type": "code",
   "execution_count": 6,
   "id": "b8490c23",
   "metadata": {},
   "outputs": [],
   "source": [
    "train = train.drop(['Cabin','Ticket', 'PassengerId'],axis = 1)"
   ]
  },
  {
   "cell_type": "markdown",
   "id": "6031ab55",
   "metadata": {},
   "source": [
    "# # Creating new features."
   ]
  },
  {
   "cell_type": "markdown",
   "id": "db393ee1",
   "metadata": {},
   "source": [
    "### Creating feature - 'SocialStatus' from 'Name'"
   ]
  },
  {
   "cell_type": "code",
   "execution_count": 7,
   "id": "1635def1",
   "metadata": {},
   "outputs": [],
   "source": [
    "train[['LastName', 'FirstName']]=train.Name.str.split(\",\",expand=True)"
   ]
  },
  {
   "cell_type": "code",
   "execution_count": 8,
   "id": "4debe353",
   "metadata": {},
   "outputs": [],
   "source": [
    "train.FirstName=train.FirstName.str.lstrip()"
   ]
  },
  {
   "cell_type": "code",
   "execution_count": 9,
   "id": "af513d52",
   "metadata": {},
   "outputs": [],
   "source": [
    "train[['Title', 'FName']]=train.FirstName.str.split(' ', 1, expand=True)"
   ]
  },
  {
   "cell_type": "code",
   "execution_count": 10,
   "id": "c7cc2873",
   "metadata": {},
   "outputs": [],
   "source": [
    "train = train.drop(['FirstName','Name','LastName', 'FName'],axis = 1)"
   ]
  },
  {
   "cell_type": "code",
   "execution_count": 11,
   "id": "de053832",
   "metadata": {},
   "outputs": [
    {
     "data": {
      "text/plain": [
       "array(['Mr.', 'Mrs.', 'Miss.', 'Master.', 'Don.', 'Rev.', 'Dr.', 'Mme.',\n",
       "       'Ms.', 'Major.', 'Lady.', 'Sir.', 'Mlle.', 'Col.', 'Capt.', 'the',\n",
       "       'Jonkheer.'], dtype=object)"
      ]
     },
     "execution_count": 11,
     "metadata": {},
     "output_type": "execute_result"
    }
   ],
   "source": [
    "train.Title.unique()"
   ]
  },
  {
   "cell_type": "code",
   "execution_count": 12,
   "id": "771cd02f",
   "metadata": {},
   "outputs": [],
   "source": [
    "# Replacing French titles for english.\n",
    "\n",
    "train.Title = train.Title.replace('Mme.','Mrs.')\n",
    "train.Title = train.Title.replace('Mlle.','Miss.')"
   ]
  },
  {
   "cell_type": "code",
   "execution_count": 13,
   "id": "eeb78cd7",
   "metadata": {},
   "outputs": [
    {
     "data": {
      "text/plain": [
       "array(['Mr.', 'Mrs.', 'Miss.', 'Master.', 'Don.', 'Rev.', 'Dr.', 'Ms.',\n",
       "       'Major.', 'Lady.', 'Sir.', 'Col.', 'Capt.', 'the', 'Jonkheer.'],\n",
       "      dtype=object)"
      ]
     },
     "execution_count": 13,
     "metadata": {},
     "output_type": "execute_result"
    }
   ],
   "source": [
    "train.Title.unique()"
   ]
  },
  {
   "cell_type": "code",
   "execution_count": 14,
   "id": "ad76ffe7",
   "metadata": {},
   "outputs": [],
   "source": [
    "status = {'Mr.': 'M', 'Mrs.': 'W', 'Miss.': 'W', 'Master.': 'W', \n",
    "          'Don.': 'Noble', 'Rev.': 'Officer', 'Dr.': 'Officer', 'Ms.': 'W', \n",
    "          'Major.': 'Officer', 'Lady.': 'Noble', 'Sir.': 'Noble', 'Col.': 'Officer', \n",
    "          'Capt.': 'Officer', 'the': 'Noble', 'Jonkheer.': 'Noble' }"
   ]
  },
  {
   "cell_type": "code",
   "execution_count": 15,
   "id": "909d296b",
   "metadata": {},
   "outputs": [],
   "source": [
    "train['SocialStatus'] = train.Title.map(status)"
   ]
  },
  {
   "cell_type": "markdown",
   "id": "cde41179",
   "metadata": {},
   "source": [
    "### Creating feature - 'Died' from 'Survived'"
   ]
  },
  {
   "cell_type": "code",
   "execution_count": 16,
   "id": "88599138",
   "metadata": {},
   "outputs": [],
   "source": [
    "train['Died'] = train['Survived']\n",
    "train.Died = train.Survived.map({0:1, 1:0})\n"
   ]
  },
  {
   "cell_type": "code",
   "execution_count": 17,
   "id": "6bc79bd2",
   "metadata": {
    "scrolled": true
   },
   "outputs": [
    {
     "data": {
      "text/html": [
       "<div>\n",
       "<style scoped>\n",
       "    .dataframe tbody tr th:only-of-type {\n",
       "        vertical-align: middle;\n",
       "    }\n",
       "\n",
       "    .dataframe tbody tr th {\n",
       "        vertical-align: top;\n",
       "    }\n",
       "\n",
       "    .dataframe thead th {\n",
       "        text-align: right;\n",
       "    }\n",
       "</style>\n",
       "<table border=\"1\" class=\"dataframe\">\n",
       "  <thead>\n",
       "    <tr style=\"text-align: right;\">\n",
       "      <th></th>\n",
       "      <th>Survived</th>\n",
       "      <th>Pclass</th>\n",
       "      <th>Sex</th>\n",
       "      <th>Age</th>\n",
       "      <th>SibSp</th>\n",
       "      <th>Parch</th>\n",
       "      <th>Fare</th>\n",
       "      <th>Embarked</th>\n",
       "      <th>Title</th>\n",
       "      <th>SocialStatus</th>\n",
       "      <th>Died</th>\n",
       "    </tr>\n",
       "  </thead>\n",
       "  <tbody>\n",
       "    <tr>\n",
       "      <th>0</th>\n",
       "      <td>0</td>\n",
       "      <td>3</td>\n",
       "      <td>male</td>\n",
       "      <td>22.0</td>\n",
       "      <td>1</td>\n",
       "      <td>0</td>\n",
       "      <td>7.2500</td>\n",
       "      <td>S</td>\n",
       "      <td>Mr.</td>\n",
       "      <td>M</td>\n",
       "      <td>1</td>\n",
       "    </tr>\n",
       "    <tr>\n",
       "      <th>1</th>\n",
       "      <td>1</td>\n",
       "      <td>1</td>\n",
       "      <td>female</td>\n",
       "      <td>38.0</td>\n",
       "      <td>1</td>\n",
       "      <td>0</td>\n",
       "      <td>71.2833</td>\n",
       "      <td>C</td>\n",
       "      <td>Mrs.</td>\n",
       "      <td>W</td>\n",
       "      <td>0</td>\n",
       "    </tr>\n",
       "    <tr>\n",
       "      <th>2</th>\n",
       "      <td>1</td>\n",
       "      <td>3</td>\n",
       "      <td>female</td>\n",
       "      <td>26.0</td>\n",
       "      <td>0</td>\n",
       "      <td>0</td>\n",
       "      <td>7.9250</td>\n",
       "      <td>S</td>\n",
       "      <td>Miss.</td>\n",
       "      <td>W</td>\n",
       "      <td>0</td>\n",
       "    </tr>\n",
       "    <tr>\n",
       "      <th>3</th>\n",
       "      <td>1</td>\n",
       "      <td>1</td>\n",
       "      <td>female</td>\n",
       "      <td>35.0</td>\n",
       "      <td>1</td>\n",
       "      <td>0</td>\n",
       "      <td>53.1000</td>\n",
       "      <td>S</td>\n",
       "      <td>Mrs.</td>\n",
       "      <td>W</td>\n",
       "      <td>0</td>\n",
       "    </tr>\n",
       "    <tr>\n",
       "      <th>4</th>\n",
       "      <td>0</td>\n",
       "      <td>3</td>\n",
       "      <td>male</td>\n",
       "      <td>35.0</td>\n",
       "      <td>0</td>\n",
       "      <td>0</td>\n",
       "      <td>8.0500</td>\n",
       "      <td>S</td>\n",
       "      <td>Mr.</td>\n",
       "      <td>M</td>\n",
       "      <td>1</td>\n",
       "    </tr>\n",
       "  </tbody>\n",
       "</table>\n",
       "</div>"
      ],
      "text/plain": [
       "   Survived  Pclass     Sex   Age  SibSp  Parch     Fare Embarked  Title  \\\n",
       "0         0       3    male  22.0      1      0   7.2500        S    Mr.   \n",
       "1         1       1  female  38.0      1      0  71.2833        C   Mrs.   \n",
       "2         1       3  female  26.0      0      0   7.9250        S  Miss.   \n",
       "3         1       1  female  35.0      1      0  53.1000        S   Mrs.   \n",
       "4         0       3    male  35.0      0      0   8.0500        S    Mr.   \n",
       "\n",
       "  SocialStatus  Died  \n",
       "0            M     1  \n",
       "1            W     0  \n",
       "2            W     0  \n",
       "3            W     0  \n",
       "4            M     1  "
      ]
     },
     "execution_count": 17,
     "metadata": {},
     "output_type": "execute_result"
    }
   ],
   "source": [
    "train.head()"
   ]
  },
  {
   "cell_type": "markdown",
   "id": "3543ba49",
   "metadata": {},
   "source": [
    "# # Replacing/ removing NaN's"
   ]
  },
  {
   "cell_type": "code",
   "execution_count": 18,
   "id": "e45b7a7a",
   "metadata": {},
   "outputs": [
    {
     "data": {
      "text/plain": [
       "Survived          0\n",
       "Pclass            0\n",
       "Sex               0\n",
       "Age             177\n",
       "SibSp             0\n",
       "Parch             0\n",
       "Fare              0\n",
       "Embarked          2\n",
       "Title             0\n",
       "SocialStatus      0\n",
       "Died              0\n",
       "dtype: int64"
      ]
     },
     "execution_count": 18,
     "metadata": {},
     "output_type": "execute_result"
    }
   ],
   "source": [
    "train.isnull().sum()"
   ]
  },
  {
   "cell_type": "markdown",
   "id": "27ad235a",
   "metadata": {},
   "source": [
    "### Filling age with medium age of passenger with same title."
   ]
  },
  {
   "cell_type": "code",
   "execution_count": 19,
   "id": "cd8370f1",
   "metadata": {},
   "outputs": [],
   "source": [
    "df=train[train.Age.isnull()]"
   ]
  },
  {
   "cell_type": "code",
   "execution_count": 20,
   "id": "96896161",
   "metadata": {},
   "outputs": [],
   "source": [
    "df=df[['Age','Title']]"
   ]
  },
  {
   "cell_type": "code",
   "execution_count": 21,
   "id": "5d8d9a71",
   "metadata": {},
   "outputs": [
    {
     "data": {
      "text/plain": [
       "array(['Mr.', 'Mrs.', 'Miss.', 'Master.', 'Dr.'], dtype=object)"
      ]
     },
     "execution_count": 21,
     "metadata": {},
     "output_type": "execute_result"
    }
   ],
   "source": [
    "df.Title.unique()"
   ]
  },
  {
   "cell_type": "code",
   "execution_count": 22,
   "id": "8cad2841",
   "metadata": {},
   "outputs": [
    {
     "data": {
      "text/html": [
       "<div>\n",
       "<style scoped>\n",
       "    .dataframe tbody tr th:only-of-type {\n",
       "        vertical-align: middle;\n",
       "    }\n",
       "\n",
       "    .dataframe tbody tr th {\n",
       "        vertical-align: top;\n",
       "    }\n",
       "\n",
       "    .dataframe thead th {\n",
       "        text-align: right;\n",
       "    }\n",
       "</style>\n",
       "<table border=\"1\" class=\"dataframe\">\n",
       "  <thead>\n",
       "    <tr style=\"text-align: right;\">\n",
       "      <th></th>\n",
       "      <th>Age</th>\n",
       "    </tr>\n",
       "    <tr>\n",
       "      <th>Title</th>\n",
       "      <th></th>\n",
       "    </tr>\n",
       "  </thead>\n",
       "  <tbody>\n",
       "    <tr>\n",
       "      <th>Capt.</th>\n",
       "      <td>70.0</td>\n",
       "    </tr>\n",
       "    <tr>\n",
       "      <th>Col.</th>\n",
       "      <td>58.0</td>\n",
       "    </tr>\n",
       "    <tr>\n",
       "      <th>Don.</th>\n",
       "      <td>40.0</td>\n",
       "    </tr>\n",
       "    <tr>\n",
       "      <th>Dr.</th>\n",
       "      <td>46.5</td>\n",
       "    </tr>\n",
       "    <tr>\n",
       "      <th>Jonkheer.</th>\n",
       "      <td>38.0</td>\n",
       "    </tr>\n",
       "    <tr>\n",
       "      <th>Lady.</th>\n",
       "      <td>48.0</td>\n",
       "    </tr>\n",
       "    <tr>\n",
       "      <th>Major.</th>\n",
       "      <td>48.5</td>\n",
       "    </tr>\n",
       "    <tr>\n",
       "      <th>Master.</th>\n",
       "      <td>3.5</td>\n",
       "    </tr>\n",
       "    <tr>\n",
       "      <th>Miss.</th>\n",
       "      <td>21.0</td>\n",
       "    </tr>\n",
       "    <tr>\n",
       "      <th>Mr.</th>\n",
       "      <td>30.0</td>\n",
       "    </tr>\n",
       "    <tr>\n",
       "      <th>Mrs.</th>\n",
       "      <td>35.0</td>\n",
       "    </tr>\n",
       "    <tr>\n",
       "      <th>Ms.</th>\n",
       "      <td>28.0</td>\n",
       "    </tr>\n",
       "    <tr>\n",
       "      <th>Rev.</th>\n",
       "      <td>46.5</td>\n",
       "    </tr>\n",
       "    <tr>\n",
       "      <th>Sir.</th>\n",
       "      <td>49.0</td>\n",
       "    </tr>\n",
       "    <tr>\n",
       "      <th>the</th>\n",
       "      <td>33.0</td>\n",
       "    </tr>\n",
       "  </tbody>\n",
       "</table>\n",
       "</div>"
      ],
      "text/plain": [
       "            Age\n",
       "Title          \n",
       "Capt.      70.0\n",
       "Col.       58.0\n",
       "Don.       40.0\n",
       "Dr.        46.5\n",
       "Jonkheer.  38.0\n",
       "Lady.      48.0\n",
       "Major.     48.5\n",
       "Master.     3.5\n",
       "Miss.      21.0\n",
       "Mr.        30.0\n",
       "Mrs.       35.0\n",
       "Ms.        28.0\n",
       "Rev.       46.5\n",
       "Sir.       49.0\n",
       "the        33.0"
      ]
     },
     "execution_count": 22,
     "metadata": {},
     "output_type": "execute_result"
    }
   ],
   "source": [
    "train[['Age', 'Title']].groupby('Title').median()"
   ]
  },
  {
   "cell_type": "code",
   "execution_count": 23,
   "id": "94c2111f",
   "metadata": {},
   "outputs": [],
   "source": [
    "train.loc[(train.Age.isnull()) & (train.Title=='Mr.'),'Age']= 30.0\n",
    "train.loc[(train.Age.isnull()) & (train.Title=='Mrs.'),'Age']= 35.0\n",
    "train.loc[(train.Age.isnull()) & (train.Title=='Miss.'),'Age']= 21.0\n",
    "train.loc[(train.Age.isnull()) & (train.Title=='Master.'),'Age']= 3.5\n",
    "train.loc[(train.Age.isnull()) & (train.Title=='Dr.'),'Age']= 46.5"
   ]
  },
  {
   "cell_type": "code",
   "execution_count": 24,
   "id": "9af56a1c",
   "metadata": {},
   "outputs": [
    {
     "data": {
      "text/plain": [
       "Survived        0\n",
       "Pclass          0\n",
       "Sex             0\n",
       "Age             0\n",
       "SibSp           0\n",
       "Parch           0\n",
       "Fare            0\n",
       "Embarked        2\n",
       "Title           0\n",
       "SocialStatus    0\n",
       "Died            0\n",
       "dtype: int64"
      ]
     },
     "execution_count": 24,
     "metadata": {},
     "output_type": "execute_result"
    }
   ],
   "source": [
    "train.isnull().sum()"
   ]
  },
  {
   "cell_type": "markdown",
   "id": "e89354e2",
   "metadata": {},
   "source": [
    "### Dropping 2 rows with empty 'Embarked' values."
   ]
  },
  {
   "cell_type": "code",
   "execution_count": 25,
   "id": "08d24879",
   "metadata": {},
   "outputs": [],
   "source": [
    "train = train.dropna()"
   ]
  },
  {
   "cell_type": "code",
   "execution_count": 26,
   "id": "a890c4c0",
   "metadata": {
    "scrolled": true
   },
   "outputs": [
    {
     "data": {
      "text/plain": [
       "Survived        0\n",
       "Pclass          0\n",
       "Sex             0\n",
       "Age             0\n",
       "SibSp           0\n",
       "Parch           0\n",
       "Fare            0\n",
       "Embarked        0\n",
       "Title           0\n",
       "SocialStatus    0\n",
       "Died            0\n",
       "dtype: int64"
      ]
     },
     "execution_count": 26,
     "metadata": {},
     "output_type": "execute_result"
    }
   ],
   "source": [
    "train.isnull().sum()"
   ]
  },
  {
   "cell_type": "markdown",
   "id": "2722f407",
   "metadata": {},
   "source": [
    "# # Exploratory Data Analysis"
   ]
  },
  {
   "cell_type": "code",
   "execution_count": 27,
   "id": "6104973d",
   "metadata": {
    "scrolled": true
   },
   "outputs": [
    {
     "data": {
      "text/html": [
       "<div>\n",
       "<style scoped>\n",
       "    .dataframe tbody tr th:only-of-type {\n",
       "        vertical-align: middle;\n",
       "    }\n",
       "\n",
       "    .dataframe tbody tr th {\n",
       "        vertical-align: top;\n",
       "    }\n",
       "\n",
       "    .dataframe thead th {\n",
       "        text-align: right;\n",
       "    }\n",
       "</style>\n",
       "<table border=\"1\" class=\"dataframe\">\n",
       "  <thead>\n",
       "    <tr style=\"text-align: right;\">\n",
       "      <th></th>\n",
       "      <th>Survived</th>\n",
       "      <th>Pclass</th>\n",
       "      <th>Sex</th>\n",
       "      <th>Age</th>\n",
       "      <th>SibSp</th>\n",
       "      <th>Parch</th>\n",
       "      <th>Fare</th>\n",
       "      <th>Embarked</th>\n",
       "      <th>Title</th>\n",
       "      <th>SocialStatus</th>\n",
       "      <th>Died</th>\n",
       "    </tr>\n",
       "  </thead>\n",
       "  <tbody>\n",
       "    <tr>\n",
       "      <th>0</th>\n",
       "      <td>0</td>\n",
       "      <td>3</td>\n",
       "      <td>male</td>\n",
       "      <td>22.0</td>\n",
       "      <td>1</td>\n",
       "      <td>0</td>\n",
       "      <td>7.2500</td>\n",
       "      <td>S</td>\n",
       "      <td>Mr.</td>\n",
       "      <td>M</td>\n",
       "      <td>1</td>\n",
       "    </tr>\n",
       "    <tr>\n",
       "      <th>1</th>\n",
       "      <td>1</td>\n",
       "      <td>1</td>\n",
       "      <td>female</td>\n",
       "      <td>38.0</td>\n",
       "      <td>1</td>\n",
       "      <td>0</td>\n",
       "      <td>71.2833</td>\n",
       "      <td>C</td>\n",
       "      <td>Mrs.</td>\n",
       "      <td>W</td>\n",
       "      <td>0</td>\n",
       "    </tr>\n",
       "    <tr>\n",
       "      <th>2</th>\n",
       "      <td>1</td>\n",
       "      <td>3</td>\n",
       "      <td>female</td>\n",
       "      <td>26.0</td>\n",
       "      <td>0</td>\n",
       "      <td>0</td>\n",
       "      <td>7.9250</td>\n",
       "      <td>S</td>\n",
       "      <td>Miss.</td>\n",
       "      <td>W</td>\n",
       "      <td>0</td>\n",
       "    </tr>\n",
       "    <tr>\n",
       "      <th>3</th>\n",
       "      <td>1</td>\n",
       "      <td>1</td>\n",
       "      <td>female</td>\n",
       "      <td>35.0</td>\n",
       "      <td>1</td>\n",
       "      <td>0</td>\n",
       "      <td>53.1000</td>\n",
       "      <td>S</td>\n",
       "      <td>Mrs.</td>\n",
       "      <td>W</td>\n",
       "      <td>0</td>\n",
       "    </tr>\n",
       "    <tr>\n",
       "      <th>4</th>\n",
       "      <td>0</td>\n",
       "      <td>3</td>\n",
       "      <td>male</td>\n",
       "      <td>35.0</td>\n",
       "      <td>0</td>\n",
       "      <td>0</td>\n",
       "      <td>8.0500</td>\n",
       "      <td>S</td>\n",
       "      <td>Mr.</td>\n",
       "      <td>M</td>\n",
       "      <td>1</td>\n",
       "    </tr>\n",
       "  </tbody>\n",
       "</table>\n",
       "</div>"
      ],
      "text/plain": [
       "   Survived  Pclass     Sex   Age  SibSp  Parch     Fare Embarked  Title  \\\n",
       "0         0       3    male  22.0      1      0   7.2500        S    Mr.   \n",
       "1         1       1  female  38.0      1      0  71.2833        C   Mrs.   \n",
       "2         1       3  female  26.0      0      0   7.9250        S  Miss.   \n",
       "3         1       1  female  35.0      1      0  53.1000        S   Mrs.   \n",
       "4         0       3    male  35.0      0      0   8.0500        S    Mr.   \n",
       "\n",
       "  SocialStatus  Died  \n",
       "0            M     1  \n",
       "1            W     0  \n",
       "2            W     0  \n",
       "3            W     0  \n",
       "4            M     1  "
      ]
     },
     "execution_count": 27,
     "metadata": {},
     "output_type": "execute_result"
    }
   ],
   "source": [
    "train.head()"
   ]
  },
  {
   "cell_type": "markdown",
   "id": "fa0d7a51",
   "metadata": {},
   "source": [
    "### Categorical Features - "
   ]
  },
  {
   "cell_type": "code",
   "execution_count": 28,
   "id": "6da06b71",
   "metadata": {
    "scrolled": false
   },
   "outputs": [
    {
     "data": {
      "text/plain": [
       "<AxesSubplot:xlabel='Sex'>"
      ]
     },
     "execution_count": 28,
     "metadata": {},
     "output_type": "execute_result"
    },
    {
     "data": {
      "image/png": "[encoded data removed]",
      "text/plain": [
       "<Figure size 720x360 with 1 Axes>"
      ]
     },
     "metadata": {
      "needs_background": "light"
     },
     "output_type": "display_data"
    }
   ],
   "source": [
    "train.groupby('Sex').agg('sum')[['Survived', 'Died']].plot(kind='bar',\n",
    "                                                           figsize=(10, 5),\n",
    "                                                           stacked=True)"
   ]
  },
  {
   "cell_type": "code",
   "execution_count": 29,
   "id": "396f382d",
   "metadata": {},
   "outputs": [
    {
     "data": {
      "text/plain": [
       "<AxesSubplot:title={'center':'Stacked Bar Graph'}, xlabel='Pclass'>"
      ]
     },
     "execution_count": 29,
     "metadata": {},
     "output_type": "execute_result"
    },
    {
     "data": {
      "image/png": "[encoded data removed]",
      "text/plain": [
       "<Figure size 432x288 with 1 Axes>"
      ]
     },
     "metadata": {
      "needs_background": "light"
     },
     "output_type": "display_data"
    }
   ],
   "source": [
    "train.groupby('Pclass').agg('sum')[['Survived','Died']].plot(\n",
    "    kind = 'bar',\n",
    "    stacked = True,\n",
    "    title = 'Stacked Bar Graph',\n",
    "    mark_right = True)"
   ]
  },
  {
   "cell_type": "code",
   "execution_count": 30,
   "id": "a9c223fe",
   "metadata": {},
   "outputs": [
    {
     "data": {
      "text/plain": [
       "<AxesSubplot:title={'center':'Stacked Bar Graph'}, xlabel='SocialStatus'>"
      ]
     },
     "execution_count": 30,
     "metadata": {},
     "output_type": "execute_result"
    },
    {
     "data": {
      "image/png": "[encoded data removed]",
      "text/plain": [
       "<Figure size 432x288 with 1 Axes>"
      ]
     },
     "metadata": {
      "needs_background": "light"
     },
     "output_type": "display_data"
    }
   ],
   "source": [
    "train.groupby('SocialStatus').agg('sum')[['Survived','Died']].plot(\n",
    "    kind = 'bar',\n",
    "    stacked = True,\n",
    "    title = 'Stacked Bar Graph',\n",
    "    mark_right = True)"
   ]
  },
  {
   "cell_type": "code",
   "execution_count": 31,
   "id": "b98fd5d5",
   "metadata": {
    "scrolled": true
   },
   "outputs": [
    {
     "data": {
      "text/plain": [
       "<AxesSubplot:title={'center':'Stacked Bar Graph'}, xlabel='Embarked'>"
      ]
     },
     "execution_count": 31,
     "metadata": {},
     "output_type": "execute_result"
    },
    {
     "data": {
      "image/png": "[encoded data removed]",
      "text/plain": [
       "<Figure size 432x288 with 1 Axes>"
      ]
     },
     "metadata": {
      "needs_background": "light"
     },
     "output_type": "display_data"
    }
   ],
   "source": [
    "train.groupby('Embarked').agg('sum')[['Survived','Died']].plot(\n",
    "    kind = 'bar',\n",
    "    stacked = True,\n",
    "    title = 'Stacked Bar Graph',\n",
    "    mark_right = True)"
   ]
  },
  {
   "cell_type": "code",
   "execution_count": 32,
   "id": "7a890e3b",
   "metadata": {},
   "outputs": [
    {
     "data": {
      "text/plain": [
       "<AxesSubplot:title={'center':'Stacked Bar Graph'}, xlabel='Parch'>"
      ]
     },
     "execution_count": 32,
     "metadata": {},
     "output_type": "execute_result"
    },
    {
     "data": {
      "image/png": "[encoded data removed]",
      "text/plain": [
       "<Figure size 432x288 with 1 Axes>"
      ]
     },
     "metadata": {
      "needs_background": "light"
     },
     "output_type": "display_data"
    }
   ],
   "source": [
    "train.groupby('Parch').agg('sum')[['Survived','Died']].plot(\n",
    "    kind = 'bar',\n",
    "    stacked = True,\n",
    "    title = 'Stacked Bar Graph',\n",
    "    mark_right = True)"
   ]
  },
  {
   "cell_type": "code",
   "execution_count": 33,
   "id": "014378d7",
   "metadata": {},
   "outputs": [],
   "source": [
    "train.Parch = train.Parch.map(lambda x: 'no' if x==0 else ('yes' if x<3 else 'many'))"
   ]
  },
  {
   "cell_type": "code",
   "execution_count": 34,
   "id": "407ef925",
   "metadata": {},
   "outputs": [
    {
     "data": {
      "text/plain": [
       "<AxesSubplot:title={'center':'Stacked Bar Graph'}, xlabel='Parch'>"
      ]
     },
     "execution_count": 34,
     "metadata": {},
     "output_type": "execute_result"
    },
    {
     "data": {
      "image/png": "[encoded data removed]",
      "text/plain": [
       "<Figure size 432x288 with 1 Axes>"
      ]
     },
     "metadata": {
      "needs_background": "light"
     },
     "output_type": "display_data"
    }
   ],
   "source": [
    "train.groupby('Parch').agg('sum')[['Survived','Died']].plot(\n",
    "    kind = 'bar',\n",
    "    stacked = True,\n",
    "    title = 'Stacked Bar Graph',\n",
    "    mark_right = True)"
   ]
  },
  {
   "cell_type": "code",
   "execution_count": 35,
   "id": "ed4cbf76",
   "metadata": {},
   "outputs": [
    {
     "data": {
      "text/plain": [
       "<AxesSubplot:title={'center':'Stacked Bar Graph'}, xlabel='SibSp'>"
      ]
     },
     "execution_count": 35,
     "metadata": {},
     "output_type": "execute_result"
    },
    {
     "data": {
      "image/png": "[encoded data removed]",
      "text/plain": [
       "<Figure size 432x288 with 1 Axes>"
      ]
     },
     "metadata": {
      "needs_background": "light"
     },
     "output_type": "display_data"
    }
   ],
   "source": [
    "train.groupby('SibSp').agg('sum')[['Survived','Died']].plot(\n",
    "    kind = 'bar',\n",
    "    stacked = True,\n",
    "    title = 'Stacked Bar Graph',\n",
    "    mark_right = True)"
   ]
  },
  {
   "cell_type": "code",
   "execution_count": 36,
   "id": "bfd5481f",
   "metadata": {},
   "outputs": [],
   "source": [
    "train.SibSp = train.SibSp.map(lambda x: 'no' if x==0 else ('yes' if x<5 else 'many'))"
   ]
  },
  {
   "cell_type": "code",
   "execution_count": 37,
   "id": "77c4fa75",
   "metadata": {
    "scrolled": true
   },
   "outputs": [
    {
     "data": {
      "text/plain": [
       "<AxesSubplot:title={'center':'Stacked Bar Graph'}, xlabel='SibSp'>"
      ]
     },
     "execution_count": 37,
     "metadata": {},
     "output_type": "execute_result"
    },
    {
     "data": {
      "image/png": "[encoded data removed]",
      "text/plain": [
       "<Figure size 432x288 with 1 Axes>"
      ]
     },
     "metadata": {
      "needs_background": "light"
     },
     "output_type": "display_data"
    }
   ],
   "source": [
    "train.groupby('SibSp').agg('sum')[['Survived','Died']].plot(\n",
    "    kind = 'bar',\n",
    "    stacked = True,\n",
    "    title = 'Stacked Bar Graph',\n",
    "    mark_right = True)"
   ]
  },
  {
   "cell_type": "code",
   "execution_count": 38,
   "id": "20745b31",
   "metadata": {
    "scrolled": true
   },
   "outputs": [
    {
     "data": {
      "text/html": [
       "<div>\n",
       "<style scoped>\n",
       "    .dataframe tbody tr th:only-of-type {\n",
       "        vertical-align: middle;\n",
       "    }\n",
       "\n",
       "    .dataframe tbody tr th {\n",
       "        vertical-align: top;\n",
       "    }\n",
       "\n",
       "    .dataframe thead th {\n",
       "        text-align: right;\n",
       "    }\n",
       "</style>\n",
       "<table border=\"1\" class=\"dataframe\">\n",
       "  <thead>\n",
       "    <tr style=\"text-align: right;\">\n",
       "      <th></th>\n",
       "      <th>Survived</th>\n",
       "      <th>Pclass</th>\n",
       "      <th>Sex</th>\n",
       "      <th>Age</th>\n",
       "      <th>SibSp</th>\n",
       "      <th>Parch</th>\n",
       "      <th>Fare</th>\n",
       "      <th>Embarked</th>\n",
       "      <th>Title</th>\n",
       "      <th>SocialStatus</th>\n",
       "      <th>Died</th>\n",
       "    </tr>\n",
       "  </thead>\n",
       "  <tbody>\n",
       "    <tr>\n",
       "      <th>179</th>\n",
       "      <td>0</td>\n",
       "      <td>3</td>\n",
       "      <td>male</td>\n",
       "      <td>36.0</td>\n",
       "      <td>no</td>\n",
       "      <td>no</td>\n",
       "      <td>0.0</td>\n",
       "      <td>S</td>\n",
       "      <td>Mr.</td>\n",
       "      <td>M</td>\n",
       "      <td>1</td>\n",
       "    </tr>\n",
       "    <tr>\n",
       "      <th>263</th>\n",
       "      <td>0</td>\n",
       "      <td>1</td>\n",
       "      <td>male</td>\n",
       "      <td>40.0</td>\n",
       "      <td>no</td>\n",
       "      <td>no</td>\n",
       "      <td>0.0</td>\n",
       "      <td>S</td>\n",
       "      <td>Mr.</td>\n",
       "      <td>M</td>\n",
       "      <td>1</td>\n",
       "    </tr>\n",
       "    <tr>\n",
       "      <th>271</th>\n",
       "      <td>1</td>\n",
       "      <td>3</td>\n",
       "      <td>male</td>\n",
       "      <td>25.0</td>\n",
       "      <td>no</td>\n",
       "      <td>no</td>\n",
       "      <td>0.0</td>\n",
       "      <td>S</td>\n",
       "      <td>Mr.</td>\n",
       "      <td>M</td>\n",
       "      <td>0</td>\n",
       "    </tr>\n",
       "    <tr>\n",
       "      <th>277</th>\n",
       "      <td>0</td>\n",
       "      <td>2</td>\n",
       "      <td>male</td>\n",
       "      <td>30.0</td>\n",
       "      <td>no</td>\n",
       "      <td>no</td>\n",
       "      <td>0.0</td>\n",
       "      <td>S</td>\n",
       "      <td>Mr.</td>\n",
       "      <td>M</td>\n",
       "      <td>1</td>\n",
       "    </tr>\n",
       "    <tr>\n",
       "      <th>302</th>\n",
       "      <td>0</td>\n",
       "      <td>3</td>\n",
       "      <td>male</td>\n",
       "      <td>19.0</td>\n",
       "      <td>no</td>\n",
       "      <td>no</td>\n",
       "      <td>0.0</td>\n",
       "      <td>S</td>\n",
       "      <td>Mr.</td>\n",
       "      <td>M</td>\n",
       "      <td>1</td>\n",
       "    </tr>\n",
       "    <tr>\n",
       "      <th>413</th>\n",
       "      <td>0</td>\n",
       "      <td>2</td>\n",
       "      <td>male</td>\n",
       "      <td>30.0</td>\n",
       "      <td>no</td>\n",
       "      <td>no</td>\n",
       "      <td>0.0</td>\n",
       "      <td>S</td>\n",
       "      <td>Mr.</td>\n",
       "      <td>M</td>\n",
       "      <td>1</td>\n",
       "    </tr>\n",
       "    <tr>\n",
       "      <th>466</th>\n",
       "      <td>0</td>\n",
       "      <td>2</td>\n",
       "      <td>male</td>\n",
       "      <td>30.0</td>\n",
       "      <td>no</td>\n",
       "      <td>no</td>\n",
       "      <td>0.0</td>\n",
       "      <td>S</td>\n",
       "      <td>Mr.</td>\n",
       "      <td>M</td>\n",
       "      <td>1</td>\n",
       "    </tr>\n",
       "    <tr>\n",
       "      <th>481</th>\n",
       "      <td>0</td>\n",
       "      <td>2</td>\n",
       "      <td>male</td>\n",
       "      <td>30.0</td>\n",
       "      <td>no</td>\n",
       "      <td>no</td>\n",
       "      <td>0.0</td>\n",
       "      <td>S</td>\n",
       "      <td>Mr.</td>\n",
       "      <td>M</td>\n",
       "      <td>1</td>\n",
       "    </tr>\n",
       "    <tr>\n",
       "      <th>597</th>\n",
       "      <td>0</td>\n",
       "      <td>3</td>\n",
       "      <td>male</td>\n",
       "      <td>49.0</td>\n",
       "      <td>no</td>\n",
       "      <td>no</td>\n",
       "      <td>0.0</td>\n",
       "      <td>S</td>\n",
       "      <td>Mr.</td>\n",
       "      <td>M</td>\n",
       "      <td>1</td>\n",
       "    </tr>\n",
       "    <tr>\n",
       "      <th>633</th>\n",
       "      <td>0</td>\n",
       "      <td>1</td>\n",
       "      <td>male</td>\n",
       "      <td>30.0</td>\n",
       "      <td>no</td>\n",
       "      <td>no</td>\n",
       "      <td>0.0</td>\n",
       "      <td>S</td>\n",
       "      <td>Mr.</td>\n",
       "      <td>M</td>\n",
       "      <td>1</td>\n",
       "    </tr>\n",
       "    <tr>\n",
       "      <th>674</th>\n",
       "      <td>0</td>\n",
       "      <td>2</td>\n",
       "      <td>male</td>\n",
       "      <td>30.0</td>\n",
       "      <td>no</td>\n",
       "      <td>no</td>\n",
       "      <td>0.0</td>\n",
       "      <td>S</td>\n",
       "      <td>Mr.</td>\n",
       "      <td>M</td>\n",
       "      <td>1</td>\n",
       "    </tr>\n",
       "    <tr>\n",
       "      <th>732</th>\n",
       "      <td>0</td>\n",
       "      <td>2</td>\n",
       "      <td>male</td>\n",
       "      <td>30.0</td>\n",
       "      <td>no</td>\n",
       "      <td>no</td>\n",
       "      <td>0.0</td>\n",
       "      <td>S</td>\n",
       "      <td>Mr.</td>\n",
       "      <td>M</td>\n",
       "      <td>1</td>\n",
       "    </tr>\n",
       "    <tr>\n",
       "      <th>806</th>\n",
       "      <td>0</td>\n",
       "      <td>1</td>\n",
       "      <td>male</td>\n",
       "      <td>39.0</td>\n",
       "      <td>no</td>\n",
       "      <td>no</td>\n",
       "      <td>0.0</td>\n",
       "      <td>S</td>\n",
       "      <td>Mr.</td>\n",
       "      <td>M</td>\n",
       "      <td>1</td>\n",
       "    </tr>\n",
       "    <tr>\n",
       "      <th>815</th>\n",
       "      <td>0</td>\n",
       "      <td>1</td>\n",
       "      <td>male</td>\n",
       "      <td>30.0</td>\n",
       "      <td>no</td>\n",
       "      <td>no</td>\n",
       "      <td>0.0</td>\n",
       "      <td>S</td>\n",
       "      <td>Mr.</td>\n",
       "      <td>M</td>\n",
       "      <td>1</td>\n",
       "    </tr>\n",
       "    <tr>\n",
       "      <th>822</th>\n",
       "      <td>0</td>\n",
       "      <td>1</td>\n",
       "      <td>male</td>\n",
       "      <td>38.0</td>\n",
       "      <td>no</td>\n",
       "      <td>no</td>\n",
       "      <td>0.0</td>\n",
       "      <td>S</td>\n",
       "      <td>Jonkheer.</td>\n",
       "      <td>Noble</td>\n",
       "      <td>1</td>\n",
       "    </tr>\n",
       "  </tbody>\n",
       "</table>\n",
       "</div>"
      ],
      "text/plain": [
       "     Survived  Pclass   Sex   Age SibSp Parch  Fare Embarked      Title  \\\n",
       "179         0       3  male  36.0    no    no   0.0        S        Mr.   \n",
       "263         0       1  male  40.0    no    no   0.0        S        Mr.   \n",
       "271         1       3  male  25.0    no    no   0.0        S        Mr.   \n",
       "277         0       2  male  30.0    no    no   0.0        S        Mr.   \n",
       "302         0       3  male  19.0    no    no   0.0        S        Mr.   \n",
       "413         0       2  male  30.0    no    no   0.0        S        Mr.   \n",
       "466         0       2  male  30.0    no    no   0.0        S        Mr.   \n",
       "481         0       2  male  30.0    no    no   0.0        S        Mr.   \n",
       "597         0       3  male  49.0    no    no   0.0        S        Mr.   \n",
       "633         0       1  male  30.0    no    no   0.0        S        Mr.   \n",
       "674         0       2  male  30.0    no    no   0.0        S        Mr.   \n",
       "732         0       2  male  30.0    no    no   0.0        S        Mr.   \n",
       "806         0       1  male  39.0    no    no   0.0        S        Mr.   \n",
       "815         0       1  male  30.0    no    no   0.0        S        Mr.   \n",
       "822         0       1  male  38.0    no    no   0.0        S  Jonkheer.   \n",
       "\n",
       "    SocialStatus  Died  \n",
       "179            M     1  \n",
       "263            M     1  \n",
       "271            M     0  \n",
       "277            M     1  \n",
       "302            M     1  \n",
       "413            M     1  \n",
       "466            M     1  \n",
       "481            M     1  \n",
       "597            M     1  \n",
       "633            M     1  \n",
       "674            M     1  \n",
       "732            M     1  \n",
       "806            M     1  \n",
       "815            M     1  \n",
       "822        Noble     1  "
      ]
     },
     "execution_count": 38,
     "metadata": {},
     "output_type": "execute_result"
    }
   ],
   "source": [
    "train[train.Fare==0]"
   ]
  },
  {
   "cell_type": "code",
   "execution_count": 39,
   "id": "288fea9c",
   "metadata": {
    "scrolled": true
   },
   "outputs": [
    {
     "data": {
      "text/plain": [
       "Pclass\n",
       "1    84.193516\n",
       "2    20.662183\n",
       "3    13.675550\n",
       "Name: Fare, dtype: float64"
      ]
     },
     "execution_count": 39,
     "metadata": {},
     "output_type": "execute_result"
    }
   ],
   "source": [
    "train.groupby('Pclass')['Fare'].mean()"
   ]
  },
  {
   "cell_type": "code",
   "execution_count": 40,
   "id": "4d0e8086",
   "metadata": {},
   "outputs": [],
   "source": [
    "train.loc[(train.Fare == 0) & (train.Pclass == 1), 'Fare'] = 84.2\n",
    "train.loc[(train.Fare == 0) & (train.Pclass == 2), 'Fare'] = 20.6\n",
    "train.loc[(train.Fare == 0) & (train.Pclass == 3), 'Fare'] = 13.7"
   ]
  },
  {
   "cell_type": "code",
   "execution_count": 41,
   "id": "cf30e172",
   "metadata": {},
   "outputs": [],
   "source": [
    "train.Fare = (train.Fare-min(train.Fare))/(max(train.Fare)-min(train.Fare))"
   ]
  },
  {
   "cell_type": "code",
   "execution_count": 42,
   "id": "4ff481a0",
   "metadata": {},
   "outputs": [
    {
     "data": {
      "text/plain": [
       "array([ 0.42,  0.67,  0.75,  0.83,  0.92,  1.  ,  2.  ,  3.  ,  3.5 ,\n",
       "        4.  ,  5.  ,  6.  ,  7.  ,  8.  ,  9.  , 10.  , 11.  , 12.  ,\n",
       "       13.  , 14.  , 14.5 , 15.  , 16.  , 17.  , 18.  , 19.  , 20.  ,\n",
       "       20.5 , 21.  , 22.  , 23.  , 23.5 , 24.  , 24.5 , 25.  , 26.  ,\n",
       "       27.  , 28.  , 28.5 , 29.  , 30.  , 30.5 , 31.  , 32.  , 32.5 ,\n",
       "       33.  , 34.  , 34.5 , 35.  , 36.  , 36.5 , 37.  , 38.  , 39.  ,\n",
       "       40.  , 40.5 , 41.  , 42.  , 43.  , 44.  , 45.  , 45.5 , 46.  ,\n",
       "       46.5 , 47.  , 48.  , 49.  , 50.  , 51.  , 52.  , 53.  , 54.  ,\n",
       "       55.  , 55.5 , 56.  , 57.  , 58.  , 59.  , 60.  , 61.  , 62.  ,\n",
       "       63.  , 64.  , 65.  , 66.  , 70.  , 70.5 , 71.  , 74.  , 80.  ])"
      ]
     },
     "execution_count": 42,
     "metadata": {},
     "output_type": "execute_result"
    }
   ],
   "source": [
    "a = train.Age.sort_values()\n",
    "a.unique()"
   ]
  },
  {
   "cell_type": "code",
   "execution_count": 43,
   "id": "72f9d637",
   "metadata": {},
   "outputs": [],
   "source": [
    "train.loc[(train.Age > 0) & (train.Age < 1), 'Age'] = 0\n",
    "train.loc[(train.Age >= 1) & (train.Age < 16), 'Age'] = 1\n",
    "train.loc[(train.Age >= 16) & (train.Age < 35), 'Age'] = 2\n",
    "train.loc[(train.Age >= 35) & (train.Age < 55), 'Age'] = 3\n",
    "train.loc[(train.Age >= 55), 'Age'] = 4"
   ]
  },
  {
   "cell_type": "code",
   "execution_count": 44,
   "id": "ba1dd928",
   "metadata": {},
   "outputs": [],
   "source": [
    "#train.Age = (train.Age-min(train.Age))/(max(train.Age)-min(train.Age))"
   ]
  },
  {
   "cell_type": "code",
   "execution_count": 45,
   "id": "02fa66d9",
   "metadata": {},
   "outputs": [
    {
     "data": {
      "text/html": [
       "<div>\n",
       "<style scoped>\n",
       "    .dataframe tbody tr th:only-of-type {\n",
       "        vertical-align: middle;\n",
       "    }\n",
       "\n",
       "    .dataframe tbody tr th {\n",
       "        vertical-align: top;\n",
       "    }\n",
       "\n",
       "    .dataframe thead th {\n",
       "        text-align: right;\n",
       "    }\n",
       "</style>\n",
       "<table border=\"1\" class=\"dataframe\">\n",
       "  <thead>\n",
       "    <tr style=\"text-align: right;\">\n",
       "      <th></th>\n",
       "      <th>Survived</th>\n",
       "      <th>Pclass</th>\n",
       "      <th>Age</th>\n",
       "      <th>Fare</th>\n",
       "      <th>Died</th>\n",
       "    </tr>\n",
       "  </thead>\n",
       "  <tbody>\n",
       "    <tr>\n",
       "      <th>Survived</th>\n",
       "      <td>1.000000</td>\n",
       "      <td>-0.335549</td>\n",
       "      <td>-0.051861</td>\n",
       "      <td>0.245254</td>\n",
       "      <td>-1.000000</td>\n",
       "    </tr>\n",
       "    <tr>\n",
       "      <th>Pclass</th>\n",
       "      <td>-0.335549</td>\n",
       "      <td>1.000000</td>\n",
       "      <td>-0.347152</td>\n",
       "      <td>-0.563222</td>\n",
       "      <td>0.335549</td>\n",
       "    </tr>\n",
       "    <tr>\n",
       "      <th>Age</th>\n",
       "      <td>-0.051861</td>\n",
       "      <td>-0.347152</td>\n",
       "      <td>1.000000</td>\n",
       "      <td>0.139315</td>\n",
       "      <td>0.051861</td>\n",
       "    </tr>\n",
       "    <tr>\n",
       "      <th>Fare</th>\n",
       "      <td>0.245254</td>\n",
       "      <td>-0.563222</td>\n",
       "      <td>0.139315</td>\n",
       "      <td>1.000000</td>\n",
       "      <td>-0.245254</td>\n",
       "    </tr>\n",
       "    <tr>\n",
       "      <th>Died</th>\n",
       "      <td>-1.000000</td>\n",
       "      <td>0.335549</td>\n",
       "      <td>0.051861</td>\n",
       "      <td>-0.245254</td>\n",
       "      <td>1.000000</td>\n",
       "    </tr>\n",
       "  </tbody>\n",
       "</table>\n",
       "</div>"
      ],
      "text/plain": [
       "          Survived    Pclass       Age      Fare      Died\n",
       "Survived  1.000000 -0.335549 -0.051861  0.245254 -1.000000\n",
       "Pclass   -0.335549  1.000000 -0.347152 -0.563222  0.335549\n",
       "Age      -0.051861 -0.347152  1.000000  0.139315  0.051861\n",
       "Fare      0.245254 -0.563222  0.139315  1.000000 -0.245254\n",
       "Died     -1.000000  0.335549  0.051861 -0.245254  1.000000"
      ]
     },
     "execution_count": 45,
     "metadata": {},
     "output_type": "execute_result"
    }
   ],
   "source": [
    "train.corr()"
   ]
  },
  {
   "cell_type": "markdown",
   "id": "54c579bd",
   "metadata": {},
   "source": [
    "### Converting categorical features to numerical features."
   ]
  },
  {
   "cell_type": "markdown",
   "id": "f17166e3",
   "metadata": {},
   "source": [
    "print(train.Sex.unique())\n",
    "print(train.Embarked.unique())\n",
    "print(train.SocialStatus.unique())\n",
    "print(train.Title.unique())"
   ]
  },
  {
   "cell_type": "markdown",
   "id": "78e3ae5d",
   "metadata": {},
   "source": [
    "train.Sex = train.Sex.map({'male' : 0, 'female': 1})\n",
    "train.Embarked = train.Embarked.map({'S' : 0, 'C': 1, 'Q':2})\n",
    "train.SocialStatus = train.SocialStatus.map({'Ord': 0, 'Officer' : 1, 'Noble': 2})\n",
    "train.Title = train.Title.map({'Mr.':0, 'Mrs.':1, 'Miss.':2, 'Master.':3, 'Don.':4, \n",
    "                               'Rev.':5, 'Dr.':6, 'Ms.':7, 'Major.':8, 'Lady.':9,\n",
    "                               'Sir.':10, 'Col.':11, 'Capt.':12, 'the':13, 'Jonkheer.':14})"
   ]
  },
  {
   "cell_type": "markdown",
   "id": "217fb4e5",
   "metadata": {},
   "source": [
    "# Dropping Title column as Title and SocialStatus give the same information.\n",
    "\n",
    "train = train.drop('Title',axis=1)"
   ]
  },
  {
   "cell_type": "code",
   "execution_count": 46,
   "id": "0c500147",
   "metadata": {
    "scrolled": true
   },
   "outputs": [
    {
     "data": {
      "text/html": [
       "<div>\n",
       "<style scoped>\n",
       "    .dataframe tbody tr th:only-of-type {\n",
       "        vertical-align: middle;\n",
       "    }\n",
       "\n",
       "    .dataframe tbody tr th {\n",
       "        vertical-align: top;\n",
       "    }\n",
       "\n",
       "    .dataframe thead th {\n",
       "        text-align: right;\n",
       "    }\n",
       "</style>\n",
       "<table border=\"1\" class=\"dataframe\">\n",
       "  <thead>\n",
       "    <tr style=\"text-align: right;\">\n",
       "      <th></th>\n",
       "      <th>Survived</th>\n",
       "      <th>Pclass</th>\n",
       "      <th>Age</th>\n",
       "      <th>Fare</th>\n",
       "      <th>Died</th>\n",
       "    </tr>\n",
       "  </thead>\n",
       "  <tbody>\n",
       "    <tr>\n",
       "      <th>Survived</th>\n",
       "      <td>1.000000</td>\n",
       "      <td>-0.335549</td>\n",
       "      <td>-0.051861</td>\n",
       "      <td>0.245254</td>\n",
       "      <td>-1.000000</td>\n",
       "    </tr>\n",
       "    <tr>\n",
       "      <th>Pclass</th>\n",
       "      <td>-0.335549</td>\n",
       "      <td>1.000000</td>\n",
       "      <td>-0.347152</td>\n",
       "      <td>-0.563222</td>\n",
       "      <td>0.335549</td>\n",
       "    </tr>\n",
       "    <tr>\n",
       "      <th>Age</th>\n",
       "      <td>-0.051861</td>\n",
       "      <td>-0.347152</td>\n",
       "      <td>1.000000</td>\n",
       "      <td>0.139315</td>\n",
       "      <td>0.051861</td>\n",
       "    </tr>\n",
       "    <tr>\n",
       "      <th>Fare</th>\n",
       "      <td>0.245254</td>\n",
       "      <td>-0.563222</td>\n",
       "      <td>0.139315</td>\n",
       "      <td>1.000000</td>\n",
       "      <td>-0.245254</td>\n",
       "    </tr>\n",
       "    <tr>\n",
       "      <th>Died</th>\n",
       "      <td>-1.000000</td>\n",
       "      <td>0.335549</td>\n",
       "      <td>0.051861</td>\n",
       "      <td>-0.245254</td>\n",
       "      <td>1.000000</td>\n",
       "    </tr>\n",
       "  </tbody>\n",
       "</table>\n",
       "</div>"
      ],
      "text/plain": [
       "          Survived    Pclass       Age      Fare      Died\n",
       "Survived  1.000000 -0.335549 -0.051861  0.245254 -1.000000\n",
       "Pclass   -0.335549  1.000000 -0.347152 -0.563222  0.335549\n",
       "Age      -0.051861 -0.347152  1.000000  0.139315  0.051861\n",
       "Fare      0.245254 -0.563222  0.139315  1.000000 -0.245254\n",
       "Died     -1.000000  0.335549  0.051861 -0.245254  1.000000"
      ]
     },
     "execution_count": 46,
     "metadata": {},
     "output_type": "execute_result"
    }
   ],
   "source": [
    "train.corr()"
   ]
  },
  {
   "cell_type": "code",
   "execution_count": 47,
   "id": "c79aba89",
   "metadata": {},
   "outputs": [
    {
     "data": {
      "text/html": [
       "<div>\n",
       "<style scoped>\n",
       "    .dataframe tbody tr th:only-of-type {\n",
       "        vertical-align: middle;\n",
       "    }\n",
       "\n",
       "    .dataframe tbody tr th {\n",
       "        vertical-align: top;\n",
       "    }\n",
       "\n",
       "    .dataframe thead th {\n",
       "        text-align: right;\n",
       "    }\n",
       "</style>\n",
       "<table border=\"1\" class=\"dataframe\">\n",
       "  <thead>\n",
       "    <tr style=\"text-align: right;\">\n",
       "      <th></th>\n",
       "      <th>Survived</th>\n",
       "      <th>Pclass</th>\n",
       "      <th>Sex</th>\n",
       "      <th>Age</th>\n",
       "      <th>SibSp</th>\n",
       "      <th>Parch</th>\n",
       "      <th>Fare</th>\n",
       "      <th>Embarked</th>\n",
       "      <th>Title</th>\n",
       "      <th>SocialStatus</th>\n",
       "      <th>Died</th>\n",
       "    </tr>\n",
       "  </thead>\n",
       "  <tbody>\n",
       "    <tr>\n",
       "      <th>0</th>\n",
       "      <td>0</td>\n",
       "      <td>3</td>\n",
       "      <td>male</td>\n",
       "      <td>2.0</td>\n",
       "      <td>yes</td>\n",
       "      <td>no</td>\n",
       "      <td>0.006369</td>\n",
       "      <td>S</td>\n",
       "      <td>Mr.</td>\n",
       "      <td>M</td>\n",
       "      <td>1</td>\n",
       "    </tr>\n",
       "    <tr>\n",
       "      <th>1</th>\n",
       "      <td>1</td>\n",
       "      <td>1</td>\n",
       "      <td>female</td>\n",
       "      <td>3.0</td>\n",
       "      <td>yes</td>\n",
       "      <td>no</td>\n",
       "      <td>0.132340</td>\n",
       "      <td>C</td>\n",
       "      <td>Mrs.</td>\n",
       "      <td>W</td>\n",
       "      <td>0</td>\n",
       "    </tr>\n",
       "    <tr>\n",
       "      <th>2</th>\n",
       "      <td>1</td>\n",
       "      <td>3</td>\n",
       "      <td>female</td>\n",
       "      <td>2.0</td>\n",
       "      <td>no</td>\n",
       "      <td>no</td>\n",
       "      <td>0.007697</td>\n",
       "      <td>S</td>\n",
       "      <td>Miss.</td>\n",
       "      <td>W</td>\n",
       "      <td>0</td>\n",
       "    </tr>\n",
       "    <tr>\n",
       "      <th>3</th>\n",
       "      <td>1</td>\n",
       "      <td>1</td>\n",
       "      <td>female</td>\n",
       "      <td>3.0</td>\n",
       "      <td>yes</td>\n",
       "      <td>no</td>\n",
       "      <td>0.096569</td>\n",
       "      <td>S</td>\n",
       "      <td>Mrs.</td>\n",
       "      <td>W</td>\n",
       "      <td>0</td>\n",
       "    </tr>\n",
       "    <tr>\n",
       "      <th>4</th>\n",
       "      <td>0</td>\n",
       "      <td>3</td>\n",
       "      <td>male</td>\n",
       "      <td>3.0</td>\n",
       "      <td>no</td>\n",
       "      <td>no</td>\n",
       "      <td>0.007943</td>\n",
       "      <td>S</td>\n",
       "      <td>Mr.</td>\n",
       "      <td>M</td>\n",
       "      <td>1</td>\n",
       "    </tr>\n",
       "  </tbody>\n",
       "</table>\n",
       "</div>"
      ],
      "text/plain": [
       "   Survived  Pclass     Sex  Age SibSp Parch      Fare Embarked  Title  \\\n",
       "0         0       3    male  2.0   yes    no  0.006369        S    Mr.   \n",
       "1         1       1  female  3.0   yes    no  0.132340        C   Mrs.   \n",
       "2         1       3  female  2.0    no    no  0.007697        S  Miss.   \n",
       "3         1       1  female  3.0   yes    no  0.096569        S   Mrs.   \n",
       "4         0       3    male  3.0    no    no  0.007943        S    Mr.   \n",
       "\n",
       "  SocialStatus  Died  \n",
       "0            M     1  \n",
       "1            W     0  \n",
       "2            W     0  \n",
       "3            W     0  \n",
       "4            M     1  "
      ]
     },
     "execution_count": 47,
     "metadata": {},
     "output_type": "execute_result"
    }
   ],
   "source": [
    "train.head()"
   ]
  },
  {
   "cell_type": "code",
   "execution_count": 48,
   "id": "03afcb64",
   "metadata": {},
   "outputs": [
    {
     "data": {
      "text/plain": [
       "Survived          2\n",
       "Pclass            3\n",
       "Sex               2\n",
       "Age               5\n",
       "SibSp             3\n",
       "Parch             3\n",
       "Fare            249\n",
       "Embarked          3\n",
       "Title            15\n",
       "SocialStatus      4\n",
       "Died              2\n",
       "dtype: int64"
      ]
     },
     "execution_count": 48,
     "metadata": {},
     "output_type": "execute_result"
    }
   ],
   "source": [
    "train.nunique()"
   ]
  },
  {
   "cell_type": "markdown",
   "id": "7b1ffa67",
   "metadata": {},
   "source": [
    "# # Model"
   ]
  },
  {
   "cell_type": "code",
   "execution_count": 59,
   "id": "9bb97256",
   "metadata": {},
   "outputs": [
    {
     "data": {
      "text/plain": [
       "0.8609865470852018"
      ]
     },
     "execution_count": 59,
     "metadata": {},
     "output_type": "execute_result"
    }
   ],
   "source": [
    "from sklearn.model_selection import train_test_split\n",
    "#X = train.copy().drop(['Survived','Died'], axis=1)\n",
    "X= train[['Sex','Fare','SocialStatus','Pclass']]\n",
    "#X = pd.get_dummies(X)\n",
    "y = train.Survived\n",
    "\n",
    "X_train, X_val, y_train, y_val = train_test_split(X, y, random_state = 1)\n",
    "\n",
    "from sklearn.preprocessing import OneHotEncoder\n",
    "\n",
    "# Create the encoder.\n",
    "encoder = OneHotEncoder(handle_unknown=\"ignore\")\n",
    "encoder.fit(X_train)    # Assume for simplicity all features are categorical.\n",
    "\n",
    "# Apply the encoder.\n",
    "X_train = encoder.transform(X_train)\n",
    "X_val = encoder.transform(X_val)\n",
    "\n",
    "from sklearn.linear_model import LogisticRegression\n",
    "model = LogisticRegression()\n",
    "model.fit(X_train, y_train)\n",
    "\n",
    "from sklearn.metrics import accuracy_score\n",
    "\n",
    "Y_pred = model.predict(X_val)\n",
    "accuracy_score(y_val, Y_pred)"
   ]
  },
  {
   "cell_type": "code",
   "execution_count": null,
   "id": "06a6dbde",
   "metadata": {},
   "outputs": [],
   "source": [
    "X.head()"
   ]
  },
  {
   "cell_type": "code",
   "execution_count": null,
   "id": "3796127a",
   "metadata": {},
   "outputs": [],
   "source": [
    "from sklearn.decomposition import PCA\n",
    "\n",
    "pca = PCA(n_components=3)\n",
    "X_train = pca.fit_transform(X_train)\n",
    "X_val = pca.transform(X_val)\n",
    "\n",
    "from sklearn.ensemble import RandomForestClassifier\n",
    "\n",
    "classifier = LogisticRegression()\n",
    "classifier.fit(X_train, y_train)\n",
    "\n",
    "# Predicting the Test set results\n",
    "y_pred = classifier.predict(X_val)\n",
    "\n",
    "from sklearn.metrics import confusion_matrix\n",
    "from sklearn.metrics import accuracy_score\n",
    "\n",
    "cm = confusion_matrix(y_val, y_pred)\n",
    "print(cm)\n",
    "print(accuracy_score(y_val, y_pred))"
   ]
  },
  {
   "cell_type": "markdown",
   "id": "65fab5e9",
   "metadata": {},
   "source": [
    "# Cleaning test set."
   ]
  },
  {
   "cell_type": "code",
   "execution_count": null,
   "id": "043e7f15",
   "metadata": {},
   "outputs": [],
   "source": [
    "test.isnull().sum()"
   ]
  },
  {
   "cell_type": "code",
   "execution_count": null,
   "id": "58ff350f",
   "metadata": {},
   "outputs": [],
   "source": [
    "test[['LastName', 'FirstName']]= test.Name.str.split(\",\",expand=True)\n",
    "\n",
    "test.FirstName=test.FirstName.str.lstrip()\n",
    "\n",
    "test[['Title', 'FName']]=test.FirstName.str.split(' ', 1, expand=True)\n",
    "\n",
    "test = test.drop(['FirstName','Name','LastName', 'FName'],axis = 1)\n",
    "\n",
    "test.Title.unique()\n",
    "\n",
    "# Replacing French titles for english.\n",
    "\n",
    "test.Title = test.Title.replace('Mme.','Mrs.')\n",
    "test.Title = test.Title.replace('Mlle.','Miss.')\n",
    "\n",
    "test.Title.unique()\n",
    "\n",
    "status = {'Mr.': 'Men', 'Mrs.': 'WnC', 'Miss.': 'WnC', 'Master.': 'WnC', \n",
    "          'Don.': 'Noble', 'Rev.': 'Officer', 'Dr.': 'Officer', 'Ms.': 'WnC', \n",
    "          'Major.': 'Officer', 'Lady.': 'Noble', 'Sir.': 'Noble', 'Col.': 'Officer', \n",
    "          'Capt.': 'Officer', 'the': 'Noble', 'Jonkheer.': 'Noble', 'Dona.' : 'WnC' }\n",
    "\n",
    "test['SocialStatus'] = test.Title.map(status)"
   ]
  },
  {
   "cell_type": "code",
   "execution_count": null,
   "id": "b3051a4b",
   "metadata": {},
   "outputs": [],
   "source": [
    "test.SocialStatus.unique()"
   ]
  },
  {
   "cell_type": "code",
   "execution_count": null,
   "id": "6ddaebae",
   "metadata": {},
   "outputs": [],
   "source": [
    "df=test[test.Age.isnull()]\n",
    "df=df[['Age','Title']]\n",
    "df.Title.unique()"
   ]
  },
  {
   "cell_type": "code",
   "execution_count": null,
   "id": "dde723a4",
   "metadata": {},
   "outputs": [],
   "source": [
    "test[['Age', 'Title']].groupby('Title').median()"
   ]
  },
  {
   "cell_type": "code",
   "execution_count": null,
   "id": "2756ea4c",
   "metadata": {},
   "outputs": [],
   "source": [
    "test.loc[(test.Age.isnull()) & (test.Title=='Mr.'),'Age']= 28.5\n",
    "test.loc[(test.Age.isnull()) & (test.Title=='Mrs.'),'Age']= 36.5\n",
    "test.loc[(test.Age.isnull()) & (test.Title=='Miss.'),'Age']= 22.0\n",
    "test.loc[(test.Age.isnull()) & (test.Title=='Master.'),'Age']= 7.0\n",
    "test.loc[(test.Age.isnull()) & (test.Title=='Ms.'),'Age']= 22.0"
   ]
  },
  {
   "cell_type": "code",
   "execution_count": null,
   "id": "6c709b7e",
   "metadata": {
    "scrolled": true
   },
   "outputs": [],
   "source": [
    "test.groupby('Pclass')['Fare'].mean()"
   ]
  },
  {
   "cell_type": "code",
   "execution_count": null,
   "id": "0a780807",
   "metadata": {},
   "outputs": [],
   "source": [
    "test[test.Fare.isnull()]"
   ]
  },
  {
   "cell_type": "code",
   "execution_count": null,
   "id": "588608d4",
   "metadata": {},
   "outputs": [],
   "source": [
    "test.Fare=test.Fare.fillna(12.5)"
   ]
  },
  {
   "cell_type": "code",
   "execution_count": null,
   "id": "cd43bbb8",
   "metadata": {},
   "outputs": [],
   "source": [
    "test[test.Fare==0]"
   ]
  },
  {
   "cell_type": "code",
   "execution_count": null,
   "id": "e67195c6",
   "metadata": {},
   "outputs": [],
   "source": [
    "test.loc[(test.Fare==0), 'Fare'] = 94.3"
   ]
  },
  {
   "cell_type": "code",
   "execution_count": null,
   "id": "6d8d9631",
   "metadata": {},
   "outputs": [],
   "source": [
    "test = test.drop(['PassengerId', 'Ticket','Cabin', 'Title'], axis = 1)"
   ]
  },
  {
   "cell_type": "markdown",
   "id": "b8291b78",
   "metadata": {},
   "source": [
    "### Converting categorical features to numerical features."
   ]
  },
  {
   "cell_type": "code",
   "execution_count": null,
   "id": "1016a215",
   "metadata": {},
   "outputs": [],
   "source": [
    "### Converting categorical features to numerical features.\n",
    "\n",
    "test.Sex = test.Sex.map({'male' : 0, 'female': 1})\n",
    "test.Embarked = test.Embarked.map({'S' : 0, 'C': 1, 'Q':2})\n",
    "test.SocialStatus = test.SocialStatus.map({'Men': 0, 'Officer' : 1, 'Noble': 2,'WnC':3})"
   ]
  },
  {
   "cell_type": "code",
   "execution_count": null,
   "id": "77868b84",
   "metadata": {},
   "outputs": [],
   "source": [
    "test.SibSp = test.SibSp.map(lambda x: 0 if x==0 else 1)"
   ]
  },
  {
   "cell_type": "code",
   "execution_count": null,
   "id": "8d684a02",
   "metadata": {},
   "outputs": [],
   "source": [
    "test.SibSp = test.SibSp.map(lambda x: 0 if x==0 else 1)"
   ]
  },
  {
   "cell_type": "code",
   "execution_count": null,
   "id": "deed8fba",
   "metadata": {},
   "outputs": [],
   "source": [
    "test.head()"
   ]
  },
  {
   "cell_type": "code",
   "execution_count": null,
   "id": "86700e2b",
   "metadata": {},
   "outputs": [],
   "source": [
    "X.head()"
   ]
  },
  {
   "cell_type": "code",
   "execution_count": null,
   "id": "e4dfbe98",
   "metadata": {},
   "outputs": [],
   "source": [
    "test.isnull().sum()"
   ]
  },
  {
   "cell_type": "code",
   "execution_count": null,
   "id": "234774f0",
   "metadata": {},
   "outputs": [],
   "source": [
    "prediction = model.predict(test)"
   ]
  },
  {
   "cell_type": "code",
   "execution_count": null,
   "id": "3722de89",
   "metadata": {},
   "outputs": [],
   "source": [
    "sample_submission = pd.read_csv('/Users/Nishchay/Python/5. Titanic/Data/gender_submission.csv')\n",
    "submission = sample_submission\n",
    "submission.Survived = prediction\n",
    "#submission = submission.set_index('Id')\n",
    "submission.head()\n",
    "submission.to_csv('/Users/Nishchay/Python/5. Titanic/submission.csv', index = False)"
   ]
  },
  {
   "cell_type": "code",
   "execution_count": null,
   "id": "c26fcdfc",
   "metadata": {},
   "outputs": [],
   "source": []
  }
 ],
 "metadata": {
  "kernelspec": {
   "display_name": "Python 3",
   "language": "python",
   "name": "python3"
  },
  "language_info": {
   "codemirror_mode": {
    "name": "ipython",
    "version": 3
   },
   "file_extension": ".py",
   "mimetype": "text/x-python",
   "name": "python",
   "nbconvert_exporter": "python",
   "pygments_lexer": "ipython3",
   "version": "3.8.8"
  }
 },
 "nbformat": 4,
 "nbformat_minor": 5
}
