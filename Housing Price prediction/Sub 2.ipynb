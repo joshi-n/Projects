{
 "cells": [
  {
   "cell_type": "markdown",
   "metadata": {},
   "source": [
    "# Import Packages & Data"
   ]
  },
  {
   "cell_type": "code",
   "execution_count": 1,
   "metadata": {},
   "outputs": [
    {
     "data": {
      "text/html": [
       "<div>\n",
       "<style scoped>\n",
       "    .dataframe tbody tr th:only-of-type {\n",
       "        vertical-align: middle;\n",
       "    }\n",
       "\n",
       "    .dataframe tbody tr th {\n",
       "        vertical-align: top;\n",
       "    }\n",
       "\n",
       "    .dataframe thead th {\n",
       "        text-align: right;\n",
       "    }\n",
       "</style>\n",
       "<table border=\"1\" class=\"dataframe\">\n",
       "  <thead>\n",
       "    <tr style=\"text-align: right;\">\n",
       "      <th></th>\n",
       "      <th>MSSubClass</th>\n",
       "      <th>MSZoning</th>\n",
       "      <th>LotFrontage</th>\n",
       "      <th>LotArea</th>\n",
       "      <th>Street</th>\n",
       "      <th>Alley</th>\n",
       "      <th>LotShape</th>\n",
       "      <th>LandContour</th>\n",
       "      <th>Utilities</th>\n",
       "      <th>LotConfig</th>\n",
       "      <th>...</th>\n",
       "      <th>PoolArea</th>\n",
       "      <th>PoolQC</th>\n",
       "      <th>Fence</th>\n",
       "      <th>MiscFeature</th>\n",
       "      <th>MiscVal</th>\n",
       "      <th>MoSold</th>\n",
       "      <th>YrSold</th>\n",
       "      <th>SaleType</th>\n",
       "      <th>SaleCondition</th>\n",
       "      <th>SalePrice</th>\n",
       "    </tr>\n",
       "    <tr>\n",
       "      <th>Id</th>\n",
       "      <th></th>\n",
       "      <th></th>\n",
       "      <th></th>\n",
       "      <th></th>\n",
       "      <th></th>\n",
       "      <th></th>\n",
       "      <th></th>\n",
       "      <th></th>\n",
       "      <th></th>\n",
       "      <th></th>\n",
       "      <th></th>\n",
       "      <th></th>\n",
       "      <th></th>\n",
       "      <th></th>\n",
       "      <th></th>\n",
       "      <th></th>\n",
       "      <th></th>\n",
       "      <th></th>\n",
       "      <th></th>\n",
       "      <th></th>\n",
       "      <th></th>\n",
       "    </tr>\n",
       "  </thead>\n",
       "  <tbody>\n",
       "    <tr>\n",
       "      <th>1</th>\n",
       "      <td>60</td>\n",
       "      <td>RL</td>\n",
       "      <td>65.0</td>\n",
       "      <td>8450</td>\n",
       "      <td>Pave</td>\n",
       "      <td>NaN</td>\n",
       "      <td>Reg</td>\n",
       "      <td>Lvl</td>\n",
       "      <td>AllPub</td>\n",
       "      <td>Inside</td>\n",
       "      <td>...</td>\n",
       "      <td>0</td>\n",
       "      <td>NaN</td>\n",
       "      <td>NaN</td>\n",
       "      <td>NaN</td>\n",
       "      <td>0</td>\n",
       "      <td>2</td>\n",
       "      <td>2008</td>\n",
       "      <td>WD</td>\n",
       "      <td>Normal</td>\n",
       "      <td>208500</td>\n",
       "    </tr>\n",
       "    <tr>\n",
       "      <th>2</th>\n",
       "      <td>20</td>\n",
       "      <td>RL</td>\n",
       "      <td>80.0</td>\n",
       "      <td>9600</td>\n",
       "      <td>Pave</td>\n",
       "      <td>NaN</td>\n",
       "      <td>Reg</td>\n",
       "      <td>Lvl</td>\n",
       "      <td>AllPub</td>\n",
       "      <td>FR2</td>\n",
       "      <td>...</td>\n",
       "      <td>0</td>\n",
       "      <td>NaN</td>\n",
       "      <td>NaN</td>\n",
       "      <td>NaN</td>\n",
       "      <td>0</td>\n",
       "      <td>5</td>\n",
       "      <td>2007</td>\n",
       "      <td>WD</td>\n",
       "      <td>Normal</td>\n",
       "      <td>181500</td>\n",
       "    </tr>\n",
       "    <tr>\n",
       "      <th>3</th>\n",
       "      <td>60</td>\n",
       "      <td>RL</td>\n",
       "      <td>68.0</td>\n",
       "      <td>11250</td>\n",
       "      <td>Pave</td>\n",
       "      <td>NaN</td>\n",
       "      <td>IR1</td>\n",
       "      <td>Lvl</td>\n",
       "      <td>AllPub</td>\n",
       "      <td>Inside</td>\n",
       "      <td>...</td>\n",
       "      <td>0</td>\n",
       "      <td>NaN</td>\n",
       "      <td>NaN</td>\n",
       "      <td>NaN</td>\n",
       "      <td>0</td>\n",
       "      <td>9</td>\n",
       "      <td>2008</td>\n",
       "      <td>WD</td>\n",
       "      <td>Normal</td>\n",
       "      <td>223500</td>\n",
       "    </tr>\n",
       "    <tr>\n",
       "      <th>4</th>\n",
       "      <td>70</td>\n",
       "      <td>RL</td>\n",
       "      <td>60.0</td>\n",
       "      <td>9550</td>\n",
       "      <td>Pave</td>\n",
       "      <td>NaN</td>\n",
       "      <td>IR1</td>\n",
       "      <td>Lvl</td>\n",
       "      <td>AllPub</td>\n",
       "      <td>Corner</td>\n",
       "      <td>...</td>\n",
       "      <td>0</td>\n",
       "      <td>NaN</td>\n",
       "      <td>NaN</td>\n",
       "      <td>NaN</td>\n",
       "      <td>0</td>\n",
       "      <td>2</td>\n",
       "      <td>2006</td>\n",
       "      <td>WD</td>\n",
       "      <td>Abnorml</td>\n",
       "      <td>140000</td>\n",
       "    </tr>\n",
       "    <tr>\n",
       "      <th>5</th>\n",
       "      <td>60</td>\n",
       "      <td>RL</td>\n",
       "      <td>84.0</td>\n",
       "      <td>14260</td>\n",
       "      <td>Pave</td>\n",
       "      <td>NaN</td>\n",
       "      <td>IR1</td>\n",
       "      <td>Lvl</td>\n",
       "      <td>AllPub</td>\n",
       "      <td>FR2</td>\n",
       "      <td>...</td>\n",
       "      <td>0</td>\n",
       "      <td>NaN</td>\n",
       "      <td>NaN</td>\n",
       "      <td>NaN</td>\n",
       "      <td>0</td>\n",
       "      <td>12</td>\n",
       "      <td>2008</td>\n",
       "      <td>WD</td>\n",
       "      <td>Normal</td>\n",
       "      <td>250000</td>\n",
       "    </tr>\n",
       "  </tbody>\n",
       "</table>\n",
       "<p>5 rows × 80 columns</p>\n",
       "</div>"
      ],
      "text/plain": [
       "    MSSubClass MSZoning  LotFrontage  LotArea Street Alley LotShape  \\\n",
       "Id                                                                    \n",
       "1           60       RL         65.0     8450   Pave   NaN      Reg   \n",
       "2           20       RL         80.0     9600   Pave   NaN      Reg   \n",
       "3           60       RL         68.0    11250   Pave   NaN      IR1   \n",
       "4           70       RL         60.0     9550   Pave   NaN      IR1   \n",
       "5           60       RL         84.0    14260   Pave   NaN      IR1   \n",
       "\n",
       "   LandContour Utilities LotConfig  ... PoolArea PoolQC Fence MiscFeature  \\\n",
       "Id                                  ...                                     \n",
       "1          Lvl    AllPub    Inside  ...        0    NaN   NaN         NaN   \n",
       "2          Lvl    AllPub       FR2  ...        0    NaN   NaN         NaN   \n",
       "3          Lvl    AllPub    Inside  ...        0    NaN   NaN         NaN   \n",
       "4          Lvl    AllPub    Corner  ...        0    NaN   NaN         NaN   \n",
       "5          Lvl    AllPub       FR2  ...        0    NaN   NaN         NaN   \n",
       "\n",
       "   MiscVal MoSold  YrSold  SaleType  SaleCondition  SalePrice  \n",
       "Id                                                             \n",
       "1        0      2    2008        WD         Normal     208500  \n",
       "2        0      5    2007        WD         Normal     181500  \n",
       "3        0      9    2008        WD         Normal     223500  \n",
       "4        0      2    2006        WD        Abnorml     140000  \n",
       "5        0     12    2008        WD         Normal     250000  \n",
       "\n",
       "[5 rows x 80 columns]"
      ]
     },
     "execution_count": 1,
     "metadata": {},
     "output_type": "execute_result"
    }
   ],
   "source": [
    "# Importing required packages\n",
    "\n",
    "import pandas as pd\n",
    "import numpy as np\n",
    "import matplotlib.pyplot as plt\n",
    "import seaborn as sns\n",
    "\n",
    "pd.options.display.max_rows = 1000\n",
    "\n",
    "# Import Data\n",
    "\n",
    "train = pd.read_csv('/Users/nishchay/Python/4. Ames Housing Dataset - Kaggle/home-data-for-ml-course/train.csv', index_col = 0)\n",
    "test= pd.read_csv('/Users/nishchay/Python/4. Ames Housing Dataset - Kaggle/home-data-for-ml-course/test.csv', index_col = 0)\n",
    "train.head()"
   ]
  },
  {
   "cell_type": "code",
   "execution_count": 2,
   "metadata": {
    "scrolled": false
   },
   "outputs": [
    {
     "data": {
      "text/plain": [
       "count      1460.000000\n",
       "mean     180921.195890\n",
       "std       79442.502883\n",
       "min       34900.000000\n",
       "25%      129975.000000\n",
       "50%      163000.000000\n",
       "75%      214000.000000\n",
       "max      755000.000000\n",
       "Name: SalePrice, dtype: float64"
      ]
     },
     "execution_count": 2,
     "metadata": {},
     "output_type": "execute_result"
    }
   ],
   "source": [
    "train['SalePrice'].describe()"
   ]
  },
  {
   "cell_type": "markdown",
   "metadata": {},
   "source": [
    "# Data Cleaning"
   ]
  },
  {
   "cell_type": "markdown",
   "metadata": {},
   "source": [
    "## Checking Missing Values"
   ]
  },
  {
   "cell_type": "code",
   "execution_count": 3,
   "metadata": {
    "scrolled": true
   },
   "outputs": [
    {
     "name": "stdout",
     "output_type": "stream",
     "text": [
      "Number of Rows: 1460\n",
      "Number of columns: 80\n",
      "Number of columns with missing values: 19\n",
      "Columns with number of missing values: \n",
      "PoolQC          1453\n",
      "MiscFeature     1406\n",
      "Alley           1369\n",
      "Fence           1179\n",
      "FireplaceQu      690\n",
      "LotFrontage      259\n",
      "GarageType        81\n",
      "GarageYrBlt       81\n",
      "GarageFinish      81\n",
      "GarageQual        81\n",
      "GarageCond        81\n",
      "BsmtExposure      38\n",
      "BsmtFinType2      38\n",
      "BsmtFinType1      37\n",
      "BsmtCond          37\n",
      "BsmtQual          37\n",
      "MasVnrArea         8\n",
      "MasVnrType         8\n",
      "Electrical         1\n",
      "dtype: int64\n"
     ]
    }
   ],
   "source": [
    "columns_nan=pd.isnull(train).sum()\n",
    "columns_nan = columns_nan[columns_nan>0].sort_values(ascending=False)\n",
    "print(f'Number of Rows: {train.shape[0]}')\n",
    "print(f'Number of columns: {train.shape[1]}')\n",
    "print(f'Number of columns with missing values: {columns_nan.count()}')\n",
    "print(f'Columns with number of missing values: \\n{columns_nan}')"
   ]
  },
  {
   "cell_type": "markdown",
   "metadata": {},
   "source": [
    "# Create a List of features with - missing values, numerical values & categorical values"
   ]
  },
  {
   "cell_type": "code",
   "execution_count": 4,
   "metadata": {},
   "outputs": [],
   "source": [
    "features= train.columns.tolist() # List of all features.\n",
    "features_nan= columns_nan.index.tolist() # Features of features with missing values.\n",
    "features_no_nan= [x for x in features if x not in features_nan] # List of features with no missing value.\n",
    "\n",
    "num_features= [] # List of numerical features.\n",
    "for x in features_no_nan:\n",
    "    if train[x].dtype != object:\n",
    "        num_features.append(x)  \n",
    "        \n",
    "cat_features=[] # List of categorical features.\n",
    "for x in features_no_nan:\n",
    "    if train[x].dtype==object:\n",
    "        cat_features.append(x)\n",
    "\n",
    "drop_features = [] # List of dropped features."
   ]
  },
  {
   "cell_type": "markdown",
   "metadata": {},
   "source": [
    "## Fill/ Drop missing values"
   ]
  },
  {
   "cell_type": "code",
   "execution_count": 5,
   "metadata": {},
   "outputs": [],
   "source": [
    "#Electrical\n",
    "train[pd.isnull(train.Electrical)]\n",
    "train = train.drop([1380],axis=0) # Dropped one row with Nan in Electrical column.\n",
    "\n",
    "pd.isnull(train.Electrical).sum() # Now electrical has no miising value.\n",
    "cat_features.append('Electrical')\n",
    "features_nan.remove('Electrical')"
   ]
  },
  {
   "cell_type": "markdown",
   "metadata": {},
   "source": [
    "# MasVnrArea & MasVnrType\n",
    "\n",
    "train['MasVnrArea'].fillna(0)\n",
    "\n",
    "sns.set(font_scale=1)\n",
    "fig, ax=plt.subplots(2,1,figsize=(10,10))\n",
    "plt.figure(figsize=(14,6))\n",
    "sns.regplot(data= train, x=train['MasVnrArea'], y= train['SalePrice'],ax=ax[0])\n",
    "sns.boxplot(data= train, x=train['MasVnrType'], y= train['SalePrice'],ax=ax[1])\n",
    "\n",
    "train[['MasVnrArea','SalePrice']].corr()\n",
    "\n",
    "# MasVnrArea has low corelation to SalePrice. \n",
    "# And from the boxplot below MasVnrType has no direct affect on SalePrice.\n",
    "# Drop both features.\n",
    "\n",
    "drop_features.append(['MasVnrArea','MasVnrType'])\n",
    "features_nan.remove('MasVnrArea')\n",
    "features_nan.remove('MasVnrType')\n"
   ]
  },
  {
   "cell_type": "code",
   "execution_count": 6,
   "metadata": {},
   "outputs": [
    {
     "name": "stdout",
     "output_type": "stream",
     "text": [
      "Remaining Nan Features: ['LotFrontage', 'GarageYrBlt', 'MasVnrArea', 'MasVnrType']\n"
     ]
    }
   ],
   "source": [
    "# PoolQC, Fence, Alley, MiscFeature, GarageType, GarageFinish, GarageQual, GarageCond, BsmtQual, BsmtCond, BsmtExposure, BsmtFinType1, BsmtFinType2 & FireplaceQu\n",
    "\n",
    "# From data_description: nan refers to No pool/ Fence/ Alley/ MiscFeature.\n",
    "\n",
    "a=['PoolQC','Fence','Alley', 'MiscFeature','GarageType', 'GarageFinish', 'GarageQual', 'GarageCond', 'BsmtQual', 'BsmtCond', 'BsmtExposure', 'BsmtFinType1', 'BsmtFinType2', 'FireplaceQu']\n",
    "\n",
    "for x in a:\n",
    "    train[a]=train[a].fillna('No')\n",
    "\n",
    "for x in a:\n",
    "    cat_features.append(x)\n",
    "\n",
    "for x in a:\n",
    "    features_nan.remove(x)\n",
    "\n",
    "# For remaining Nan features, will use imputation later.\n",
    "print(f'Remaining Nan Features: {features_nan}')\n",
    "    "
   ]
  },
  {
   "cell_type": "markdown",
   "metadata": {},
   "source": [
    "# Exploratory Data Analysis"
   ]
  },
  {
   "cell_type": "markdown",
   "metadata": {},
   "source": [
    "## -- Numerical Features"
   ]
  },
  {
   "cell_type": "code",
   "execution_count": 7,
   "metadata": {},
   "outputs": [
    {
     "data": {
      "text/plain": [
       "34"
      ]
     },
     "execution_count": 7,
     "metadata": {},
     "output_type": "execute_result"
    }
   ],
   "source": [
    "len(num_features)"
   ]
  },
  {
   "cell_type": "markdown",
   "metadata": {},
   "source": [
    "# Corelation Heatmap\n",
    "\n",
    "cor=train[num_features].corr(method='pearson')\n",
    "\n",
    "plt.figure(figsize=(200,200))\n",
    "sns.set(font_scale=6)\n",
    "sns.heatmap(data=cor[num_features], annot=True)"
   ]
  },
  {
   "cell_type": "markdown",
   "metadata": {},
   "source": [
    "# Corelation between features-\n",
    "\n",
    "1. OverallQual, GrLivArea have strong corelation with SalePrice.\n",
    "2. GarageCar & GarageArea have strong corelation. (Drop GarageArea)\n",
    "3. TotalBsmtSF & 1stFrSf have strong Corelation. (use 1 drop 1) \n",
    "4. YearBuilt & GarageYrBuilt have strong Corelation. (Drop GarageYrBuilt)\n",
    "5. TotRmsAbvGrd & GrLivArea have strong Corelation. (Drop TotRmsAbvGrd)\n",
    "6. YearBuilt & YearRemodAdd , TotalBsmtSF & 1stFrSf, FullBath, TotRmsAbvGrd, GarageCar & GarageArea have moderate corelation with SalePrice."
   ]
  },
  {
   "cell_type": "markdown",
   "metadata": {
    "scrolled": true
   },
   "source": [
    "a = 20  # number of rows\n",
    "b = 2  # number of columns\n",
    "c = 1  # initialize plot counter\n",
    "\n",
    "fig = plt.figure(figsize=(14,80))\n",
    "sns.set(font_scale=1)\n",
    "\n",
    "for i in num_features:\n",
    "    plt.subplot(a, b, c)\n",
    "    sns.regplot(data = train, x=train[i],y=train['SalePrice'])\n",
    "    c = c + 1\n",
    "\n",
    "plt.show()"
   ]
  },
  {
   "cell_type": "markdown",
   "metadata": {},
   "source": [
    "### From the above scatterplots: '2ndFlrSF' & 'PoolArea' also has a linear relation to SalePrice."
   ]
  },
  {
   "cell_type": "markdown",
   "metadata": {},
   "source": [
    "## -- Categorical Features"
   ]
  },
  {
   "cell_type": "code",
   "execution_count": 8,
   "metadata": {},
   "outputs": [
    {
     "name": "stdout",
     "output_type": "stream",
     "text": [
      "['MSZoning', 'Street', 'LotShape', 'LandContour', 'Utilities', 'LotConfig', 'LandSlope', 'Neighborhood', 'Condition1', 'Condition2', 'BldgType', 'HouseStyle', 'RoofStyle', 'RoofMatl', 'Exterior1st', 'Exterior2nd', 'ExterQual', 'ExterCond', 'Foundation', 'Heating', 'HeatingQC', 'CentralAir', 'KitchenQual', 'Functional', 'PavedDrive', 'SaleType', 'SaleCondition', 'Electrical', 'PoolQC', 'Fence', 'Alley', 'MiscFeature', 'GarageType', 'GarageFinish', 'GarageQual', 'GarageCond', 'BsmtQual', 'BsmtCond', 'BsmtExposure', 'BsmtFinType1', 'BsmtFinType2', 'FireplaceQu']\n"
     ]
    }
   ],
   "source": [
    "print(cat_features)"
   ]
  },
  {
   "cell_type": "code",
   "execution_count": 9,
   "metadata": {
    "scrolled": true
   },
   "outputs": [
    {
     "name": "stdout",
     "output_type": "stream",
     "text": [
      "MSZoning: 5 : ['RL' 'RM' 'C (all)' 'FV' 'RH']\n",
      "Street: 2 : ['Pave' 'Grvl']\n",
      "LotShape: 4 : ['Reg' 'IR1' 'IR2' 'IR3']\n",
      "LandContour: 4 : ['Lvl' 'Bnk' 'Low' 'HLS']\n",
      "Utilities: 2 : ['AllPub' 'NoSeWa']\n",
      "LotConfig: 5 : ['Inside' 'FR2' 'Corner' 'CulDSac' 'FR3']\n",
      "LandSlope: 3 : ['Gtl' 'Mod' 'Sev']\n",
      "Neighborhood: 25 : ['CollgCr' 'Veenker' 'Crawfor' 'NoRidge' 'Mitchel' 'Somerst' 'NWAmes'\n",
      " 'OldTown' 'BrkSide' 'Sawyer' 'NridgHt' 'NAmes' 'SawyerW' 'IDOTRR'\n",
      " 'MeadowV' 'Edwards' 'Timber' 'Gilbert' 'StoneBr' 'ClearCr' 'NPkVill'\n",
      " 'Blmngtn' 'BrDale' 'SWISU' 'Blueste']\n",
      "Condition1: 9 : ['Norm' 'Feedr' 'PosN' 'Artery' 'RRAe' 'RRNn' 'RRAn' 'PosA' 'RRNe']\n",
      "Condition2: 8 : ['Norm' 'Artery' 'RRNn' 'Feedr' 'PosN' 'PosA' 'RRAn' 'RRAe']\n",
      "BldgType: 5 : ['1Fam' '2fmCon' 'Duplex' 'TwnhsE' 'Twnhs']\n",
      "HouseStyle: 8 : ['2Story' '1Story' '1.5Fin' '1.5Unf' 'SFoyer' 'SLvl' '2.5Unf' '2.5Fin']\n",
      "RoofStyle: 6 : ['Gable' 'Hip' 'Gambrel' 'Mansard' 'Flat' 'Shed']\n",
      "RoofMatl: 8 : ['CompShg' 'WdShngl' 'Metal' 'WdShake' 'Membran' 'Tar&Grv' 'Roll'\n",
      " 'ClyTile']\n",
      "Exterior1st: 15 : ['VinylSd' 'MetalSd' 'Wd Sdng' 'HdBoard' 'BrkFace' 'WdShing' 'CemntBd'\n",
      " 'Plywood' 'AsbShng' 'Stucco' 'BrkComm' 'AsphShn' 'Stone' 'ImStucc'\n",
      " 'CBlock']\n",
      "Exterior2nd: 16 : ['VinylSd' 'MetalSd' 'Wd Shng' 'HdBoard' 'Plywood' 'Wd Sdng' 'CmentBd'\n",
      " 'BrkFace' 'Stucco' 'AsbShng' 'Brk Cmn' 'ImStucc' 'AsphShn' 'Stone'\n",
      " 'Other' 'CBlock']\n",
      "ExterQual: 4 : ['Gd' 'TA' 'Ex' 'Fa']\n",
      "ExterCond: 5 : ['TA' 'Gd' 'Fa' 'Po' 'Ex']\n",
      "Foundation: 6 : ['PConc' 'CBlock' 'BrkTil' 'Wood' 'Slab' 'Stone']\n",
      "Heating: 6 : ['GasA' 'GasW' 'Grav' 'Wall' 'OthW' 'Floor']\n",
      "HeatingQC: 5 : ['Ex' 'Gd' 'TA' 'Fa' 'Po']\n",
      "CentralAir: 2 : ['Y' 'N']\n",
      "KitchenQual: 4 : ['Gd' 'TA' 'Ex' 'Fa']\n",
      "Functional: 7 : ['Typ' 'Min1' 'Maj1' 'Min2' 'Mod' 'Maj2' 'Sev']\n",
      "PavedDrive: 3 : ['Y' 'N' 'P']\n",
      "SaleType: 9 : ['WD' 'New' 'COD' 'ConLD' 'ConLI' 'CWD' 'ConLw' 'Con' 'Oth']\n",
      "SaleCondition: 6 : ['Normal' 'Abnorml' 'Partial' 'AdjLand' 'Alloca' 'Family']\n",
      "Electrical: 5 : ['SBrkr' 'FuseF' 'FuseA' 'FuseP' 'Mix']\n",
      "PoolQC: 4 : ['No' 'Ex' 'Fa' 'Gd']\n",
      "Fence: 5 : ['No' 'MnPrv' 'GdWo' 'GdPrv' 'MnWw']\n",
      "Alley: 3 : ['No' 'Grvl' 'Pave']\n",
      "MiscFeature: 5 : ['No' 'Shed' 'Gar2' 'Othr' 'TenC']\n",
      "GarageType: 7 : ['Attchd' 'Detchd' 'BuiltIn' 'CarPort' 'No' 'Basment' '2Types']\n",
      "GarageFinish: 4 : ['RFn' 'Unf' 'Fin' 'No']\n",
      "GarageQual: 6 : ['TA' 'Fa' 'Gd' 'No' 'Ex' 'Po']\n",
      "GarageCond: 6 : ['TA' 'Fa' 'No' 'Gd' 'Po' 'Ex']\n",
      "BsmtQual: 5 : ['Gd' 'TA' 'Ex' 'No' 'Fa']\n",
      "BsmtCond: 5 : ['TA' 'Gd' 'No' 'Fa' 'Po']\n",
      "BsmtExposure: 4 : ['No' 'Gd' 'Mn' 'Av']\n",
      "BsmtFinType1: 7 : ['GLQ' 'ALQ' 'Unf' 'Rec' 'BLQ' 'No' 'LwQ']\n",
      "BsmtFinType2: 7 : ['Unf' 'BLQ' 'No' 'ALQ' 'Rec' 'LwQ' 'GLQ']\n",
      "FireplaceQu: 6 : ['No' 'TA' 'Gd' 'Fa' 'Ex' 'Po']\n"
     ]
    }
   ],
   "source": [
    "# Check categories in each column.\n",
    "for x in cat_features:\n",
    "    print(f'{x}: {train[x].nunique()} : {train[x].unique()}')\n"
   ]
  },
  {
   "cell_type": "code",
   "execution_count": 10,
   "metadata": {
    "scrolled": true
   },
   "outputs": [
    {
     "data": {
      "text/html": [
       "<div>\n",
       "<style scoped>\n",
       "    .dataframe tbody tr th:only-of-type {\n",
       "        vertical-align: middle;\n",
       "    }\n",
       "\n",
       "    .dataframe tbody tr th {\n",
       "        vertical-align: top;\n",
       "    }\n",
       "\n",
       "    .dataframe thead th {\n",
       "        text-align: right;\n",
       "    }\n",
       "</style>\n",
       "<table border=\"1\" class=\"dataframe\">\n",
       "  <thead>\n",
       "    <tr style=\"text-align: right;\">\n",
       "      <th></th>\n",
       "      <th>MSZoning</th>\n",
       "      <th>Street</th>\n",
       "      <th>LotShape</th>\n",
       "      <th>LandContour</th>\n",
       "      <th>Utilities</th>\n",
       "      <th>LotConfig</th>\n",
       "      <th>LandSlope</th>\n",
       "      <th>Neighborhood</th>\n",
       "      <th>Condition1</th>\n",
       "      <th>Condition2</th>\n",
       "      <th>...</th>\n",
       "      <th>GarageFinish</th>\n",
       "      <th>GarageQual</th>\n",
       "      <th>GarageCond</th>\n",
       "      <th>BsmtQual</th>\n",
       "      <th>BsmtCond</th>\n",
       "      <th>BsmtExposure</th>\n",
       "      <th>BsmtFinType1</th>\n",
       "      <th>BsmtFinType2</th>\n",
       "      <th>FireplaceQu</th>\n",
       "      <th>SalePrice</th>\n",
       "    </tr>\n",
       "    <tr>\n",
       "      <th>Id</th>\n",
       "      <th></th>\n",
       "      <th></th>\n",
       "      <th></th>\n",
       "      <th></th>\n",
       "      <th></th>\n",
       "      <th></th>\n",
       "      <th></th>\n",
       "      <th></th>\n",
       "      <th></th>\n",
       "      <th></th>\n",
       "      <th></th>\n",
       "      <th></th>\n",
       "      <th></th>\n",
       "      <th></th>\n",
       "      <th></th>\n",
       "      <th></th>\n",
       "      <th></th>\n",
       "      <th></th>\n",
       "      <th></th>\n",
       "      <th></th>\n",
       "      <th></th>\n",
       "    </tr>\n",
       "  </thead>\n",
       "  <tbody>\n",
       "    <tr>\n",
       "      <th>1</th>\n",
       "      <td>4</td>\n",
       "      <td>2</td>\n",
       "      <td>1</td>\n",
       "      <td>2</td>\n",
       "      <td>2</td>\n",
       "      <td>1</td>\n",
       "      <td>1</td>\n",
       "      <td>17</td>\n",
       "      <td>5</td>\n",
       "      <td>5</td>\n",
       "      <td>...</td>\n",
       "      <td>3</td>\n",
       "      <td>4</td>\n",
       "      <td>6</td>\n",
       "      <td>4</td>\n",
       "      <td>4</td>\n",
       "      <td>1</td>\n",
       "      <td>7</td>\n",
       "      <td>6</td>\n",
       "      <td>2</td>\n",
       "      <td>208500</td>\n",
       "    </tr>\n",
       "    <tr>\n",
       "      <th>2</th>\n",
       "      <td>4</td>\n",
       "      <td>2</td>\n",
       "      <td>1</td>\n",
       "      <td>2</td>\n",
       "      <td>2</td>\n",
       "      <td>2</td>\n",
       "      <td>1</td>\n",
       "      <td>21</td>\n",
       "      <td>3</td>\n",
       "      <td>5</td>\n",
       "      <td>...</td>\n",
       "      <td>3</td>\n",
       "      <td>4</td>\n",
       "      <td>6</td>\n",
       "      <td>4</td>\n",
       "      <td>4</td>\n",
       "      <td>4</td>\n",
       "      <td>5</td>\n",
       "      <td>6</td>\n",
       "      <td>4</td>\n",
       "      <td>181500</td>\n",
       "    </tr>\n",
       "    <tr>\n",
       "      <th>3</th>\n",
       "      <td>4</td>\n",
       "      <td>2</td>\n",
       "      <td>2</td>\n",
       "      <td>2</td>\n",
       "      <td>2</td>\n",
       "      <td>1</td>\n",
       "      <td>1</td>\n",
       "      <td>17</td>\n",
       "      <td>5</td>\n",
       "      <td>5</td>\n",
       "      <td>...</td>\n",
       "      <td>3</td>\n",
       "      <td>4</td>\n",
       "      <td>6</td>\n",
       "      <td>4</td>\n",
       "      <td>4</td>\n",
       "      <td>2</td>\n",
       "      <td>7</td>\n",
       "      <td>6</td>\n",
       "      <td>4</td>\n",
       "      <td>223500</td>\n",
       "    </tr>\n",
       "    <tr>\n",
       "      <th>4</th>\n",
       "      <td>4</td>\n",
       "      <td>2</td>\n",
       "      <td>2</td>\n",
       "      <td>2</td>\n",
       "      <td>2</td>\n",
       "      <td>3</td>\n",
       "      <td>1</td>\n",
       "      <td>18</td>\n",
       "      <td>5</td>\n",
       "      <td>5</td>\n",
       "      <td>...</td>\n",
       "      <td>2</td>\n",
       "      <td>4</td>\n",
       "      <td>6</td>\n",
       "      <td>3</td>\n",
       "      <td>5</td>\n",
       "      <td>1</td>\n",
       "      <td>5</td>\n",
       "      <td>6</td>\n",
       "      <td>5</td>\n",
       "      <td>140000</td>\n",
       "    </tr>\n",
       "    <tr>\n",
       "      <th>5</th>\n",
       "      <td>4</td>\n",
       "      <td>2</td>\n",
       "      <td>2</td>\n",
       "      <td>2</td>\n",
       "      <td>2</td>\n",
       "      <td>2</td>\n",
       "      <td>1</td>\n",
       "      <td>25</td>\n",
       "      <td>5</td>\n",
       "      <td>5</td>\n",
       "      <td>...</td>\n",
       "      <td>3</td>\n",
       "      <td>4</td>\n",
       "      <td>6</td>\n",
       "      <td>4</td>\n",
       "      <td>4</td>\n",
       "      <td>3</td>\n",
       "      <td>7</td>\n",
       "      <td>6</td>\n",
       "      <td>4</td>\n",
       "      <td>250000</td>\n",
       "    </tr>\n",
       "  </tbody>\n",
       "</table>\n",
       "<p>5 rows × 43 columns</p>\n",
       "</div>"
      ],
      "text/plain": [
       "    MSZoning  Street  LotShape  LandContour  Utilities  LotConfig  LandSlope  \\\n",
       "Id                                                                             \n",
       "1          4       2         1            2          2          1          1   \n",
       "2          4       2         1            2          2          2          1   \n",
       "3          4       2         2            2          2          1          1   \n",
       "4          4       2         2            2          2          3          1   \n",
       "5          4       2         2            2          2          2          1   \n",
       "\n",
       "    Neighborhood  Condition1  Condition2  ...  GarageFinish  GarageQual  \\\n",
       "Id                                        ...                             \n",
       "1             17           5           5  ...             3           4   \n",
       "2             21           3           5  ...             3           4   \n",
       "3             17           5           5  ...             3           4   \n",
       "4             18           5           5  ...             2           4   \n",
       "5             25           5           5  ...             3           4   \n",
       "\n",
       "    GarageCond  BsmtQual  BsmtCond  BsmtExposure  BsmtFinType1  BsmtFinType2  \\\n",
       "Id                                                                             \n",
       "1            6         4         4             1             7             6   \n",
       "2            6         4         4             4             5             6   \n",
       "3            6         4         4             2             7             6   \n",
       "4            6         3         5             1             5             6   \n",
       "5            6         4         4             3             7             6   \n",
       "\n",
       "    FireplaceQu  SalePrice  \n",
       "Id                          \n",
       "1             2     208500  \n",
       "2             4     181500  \n",
       "3             4     223500  \n",
       "4             5     140000  \n",
       "5             4     250000  \n",
       "\n",
       "[5 rows x 43 columns]"
      ]
     },
     "execution_count": 10,
     "metadata": {},
     "output_type": "execute_result"
    }
   ],
   "source": [
    "cat_eda = train[cat_features].copy()  \n",
    "cat_eda['SalePrice'] = train['SalePrice']\n",
    "\n",
    "for x in cat_features:\n",
    "    a = cat_eda[[x, 'SalePrice']]\n",
    "    a = a.groupby([x]).mean('SalePrice')\n",
    "    a = a.sort_values(\"SalePrice\")\n",
    "    cat_eda.astype(str)\n",
    "\n",
    "    o = 1\n",
    "    for z in a.index:\n",
    "        cat_eda[x] = cat_eda[x].replace(z, o)\n",
    "        o = o + 1\n",
    "\n",
    "cat_eda.head()"
   ]
  },
  {
   "cell_type": "markdown",
   "metadata": {
    "scrolled": true
   },
   "source": [
    "cat_eda.corr(method='spearman')\n",
    "\n",
    "plt.figure(figsize=(200,200))\n",
    "sns.set(font_scale=6)\n",
    "sns.heatmap(data=cat_eda.corr(), annot=True)"
   ]
  },
  {
   "cell_type": "markdown",
   "metadata": {},
   "source": [
    "From the above heatmap:\n",
    "1. Neighborhood, ExterQual, KitchenQual & BsmtQual has strong corelation to SalePrice.\n",
    "2. GarageFinish, Foundation & FireplaceQu has moderate corelation to SalePrice.\n"
   ]
  },
  {
   "cell_type": "markdown",
   "metadata": {
    "scrolled": true
   },
   "source": [
    "a = 22  # number of rows\n",
    "b = 2  # number of columns\n",
    "c = 1  # initialize plot counter\n",
    "\n",
    "fig = plt.figure(figsize=(14,80))\n",
    "sns.set(font_scale=1)\n",
    "\n",
    "for i in cat_features:\n",
    "    plt.subplot(a, b, c)\n",
    "    sns.regplot(data = cat_eda, x=cat_eda[i],y=cat_eda['SalePrice'])\n",
    "    c = c + 1\n",
    "\n",
    "plt.show()"
   ]
  },
  {
   "cell_type": "code",
   "execution_count": 11,
   "metadata": {
    "scrolled": true
   },
   "outputs": [
    {
     "name": "stdout",
     "output_type": "stream",
     "text": [
      "['BldgType', 'BsmtQual', 'BsmtUnfSF', 'CentralAir', 'ExterQual', 'FireplaceQu', 'Foundation', 'GarageCars', 'GarageCond', 'GarageFinish', 'GrLivArea', 'KitchenQual', 'Neighborhood', 'OverallQual', 'TotalBsmtSF', 'YearBuilt', 'YearRemodAdd']\n"
     ]
    }
   ],
   "source": [
    "use_cat= ['BldgType', 'CentralAir','Neighborhood', 'ExterQual', 'KitchenQual', 'BsmtQual', 'GarageFinish', 'GarageCond', 'Foundation', 'FireplaceQu']\n",
    "\n",
    "ord_cat= ['FireplaceQu', \"BsmtFinType1\", 'CentralAir','Functional', 'ExterQual', 'KitchenQual', 'BsmtQual', 'GarageFinish', 'GarageCond', 'Foundation']\n",
    "oh_cat= ['BldgType', 'Neighborhood']\n",
    "\n",
    "use_features = ['BsmtUnfSF', 'OverallQual', 'GrLivArea', 'YearBuilt', 'GarageCars', 'TotalBsmtSF', \"YearRemodAdd\"]\n",
    "\n",
    "use_features = use_features + use_cat\n",
    "use_features.sort()\n",
    "print(use_features)"
   ]
  },
  {
   "cell_type": "markdown",
   "metadata": {},
   "source": [
    "# Model"
   ]
  },
  {
   "cell_type": "markdown",
   "metadata": {},
   "source": [
    "## -- Encoding categorical features"
   ]
  },
  {
   "cell_type": "code",
   "execution_count": 12,
   "metadata": {
    "scrolled": true
   },
   "outputs": [
    {
     "name": "stdout",
     "output_type": "stream",
     "text": [
      "Ordinal encoding \n",
      "\n",
      "XGB Score: 0.9612676907404515\n",
      "XGB MAE: 15337.089704623288\n",
      "\n",
      "RMSLE: 0.13796467019295466\n",
      "\n"
     ]
    }
   ],
   "source": [
    "import sklearn\n",
    "from sklearn.model_selection import train_test_split\n",
    "X = train[use_features].copy()\n",
    "y = train.SalePrice\n",
    "\n",
    "train_X, val_X, train_y, val_y = train_test_split(X, y, random_state = 1)\n",
    "\n",
    "\n",
    "# Ordinal encoding\n",
    "\n",
    "from sklearn.preprocessing import OrdinalEncoder\n",
    "\n",
    "ordinal_encoder = OrdinalEncoder()\n",
    "\n",
    "#### Make copy to avoid changing original data \n",
    "OH_train_X = train_X.copy()\n",
    "OH_val_X = val_X.copy()\n",
    "\n",
    "OH_train_X[use_cat] = ordinal_encoder.fit_transform(train_X[use_cat])\n",
    "\n",
    "OH_val_X[use_cat] = ordinal_encoder.transform(val_X[use_cat])\n",
    "\n",
    "print('Ordinal encoding \\n')\n",
    "\n",
    "\n",
    "# XGBOOST\n",
    "\n",
    "from xgboost import XGBRegressor\n",
    "\n",
    "modelx = XGBRegressor(max_depth = 4, n_estimators=65, learning_rate=0.1)\n",
    "\n",
    "modelx.fit(OH_train_X, train_y)\n",
    "\n",
    "predictions_x = modelx.predict(OH_val_X)\n",
    "\n",
    "print(f'XGB Score: {modelx.score(OH_train_X,train_y)}')\n",
    "\n",
    "from sklearn.metrics import mean_absolute_error\n",
    "\n",
    "print(f'XGB MAE: {mean_absolute_error(val_y, predictions_x)}\\n')\n",
    "\n",
    "from sklearn.metrics import mean_squared_log_error\n",
    "print(f'RMSLE: {np.sqrt(mean_squared_log_error(val_y, predictions_x))}\\n')\n",
    "\n"
   ]
  },
  {
   "cell_type": "markdown",
   "metadata": {},
   "source": [
    "# Run Model on whole train set"
   ]
  },
  {
   "cell_type": "code",
   "execution_count": 13,
   "metadata": {},
   "outputs": [
    {
     "data": {
      "text/plain": [
       "XGBRegressor(base_score=0.5, booster='gbtree', colsample_bylevel=1,\n",
       "             colsample_bynode=1, colsample_bytree=1, gamma=0, gpu_id=-1,\n",
       "             importance_type='gain', interaction_constraints='',\n",
       "             learning_rate=0.1, max_delta_step=0, max_depth=4,\n",
       "             min_child_weight=1, missing=nan, monotone_constraints='()',\n",
       "             n_estimators=65, n_jobs=4, num_parallel_tree=1, random_state=0,\n",
       "             reg_alpha=0, reg_lambda=1, scale_pos_weight=1, subsample=1,\n",
       "             tree_method='exact', validate_parameters=1, verbosity=None)"
      ]
     },
     "execution_count": 13,
     "metadata": {},
     "output_type": "execute_result"
    }
   ],
   "source": [
    "X = train[use_features].copy()\n",
    "y = train.SalePrice\n",
    "\n",
    "# Ordinal encoding\n",
    "\n",
    "from sklearn.preprocessing import OrdinalEncoder\n",
    "\n",
    "ordinal_encoder = OrdinalEncoder()\n",
    "\n",
    "\n",
    "X[use_cat] = ordinal_encoder.fit_transform(X[use_cat])\n",
    "\n",
    "\n",
    "# XGBOOST\n",
    "\n",
    "from xgboost import XGBRegressor\n",
    "\n",
    "modelx = XGBRegressor(max_depth = 4, n_estimators=65, learning_rate=0.1)\n",
    "\n",
    "modelx.fit(X,y)\n",
    "\n"
   ]
  },
  {
   "cell_type": "code",
   "execution_count": 14,
   "metadata": {},
   "outputs": [],
   "source": [
    "# Making Predictions"
   ]
  },
  {
   "cell_type": "code",
   "execution_count": 15,
   "metadata": {},
   "outputs": [],
   "source": [
    "wanted_test_data = test[use_features]"
   ]
  },
  {
   "cell_type": "code",
   "execution_count": 16,
   "metadata": {},
   "outputs": [
    {
     "data": {
      "text/plain": [
       "BldgType          0\n",
       "BsmtQual         44\n",
       "BsmtUnfSF         1\n",
       "CentralAir        0\n",
       "ExterQual         0\n",
       "FireplaceQu     730\n",
       "Foundation        0\n",
       "GarageCars        1\n",
       "GarageCond       78\n",
       "GarageFinish     78\n",
       "GrLivArea         0\n",
       "KitchenQual       1\n",
       "Neighborhood      0\n",
       "OverallQual       0\n",
       "TotalBsmtSF       1\n",
       "YearBuilt         0\n",
       "YearRemodAdd      0\n",
       "dtype: int64"
      ]
     },
     "execution_count": 16,
     "metadata": {},
     "output_type": "execute_result"
    }
   ],
   "source": [
    "wanted_test_data.isnull().sum()"
   ]
  },
  {
   "cell_type": "code",
   "execution_count": 17,
   "metadata": {},
   "outputs": [],
   "source": [
    "### Missing value imputation in test data."
   ]
  },
  {
   "cell_type": "code",
   "execution_count": 18,
   "metadata": {},
   "outputs": [
    {
     "name": "stderr",
     "output_type": "stream",
     "text": [
      "/opt/anaconda3/lib/python3.8/site-packages/pandas/core/frame.py:3191: SettingWithCopyWarning: \n",
      "A value is trying to be set on a copy of a slice from a DataFrame.\n",
      "Try using .loc[row_indexer,col_indexer] = value instead\n",
      "\n",
      "See the caveats in the documentation: https://pandas.pydata.org/pandas-docs/stable/user_guide/indexing.html#returning-a-view-versus-a-copy\n",
      "  self[k1] = value[k2]\n",
      "<ipython-input-18-4ade0b56bba0>:4: SettingWithCopyWarning: \n",
      "A value is trying to be set on a copy of a slice from a DataFrame.\n",
      "Try using .loc[row_indexer,col_indexer] = value instead\n",
      "\n",
      "See the caveats in the documentation: https://pandas.pydata.org/pandas-docs/stable/user_guide/indexing.html#returning-a-view-versus-a-copy\n",
      "  wanted_test_data['TotalBsmtSF'] = wanted_test_data['TotalBsmtSF'].fillna(0)\n",
      "<ipython-input-18-4ade0b56bba0>:6: SettingWithCopyWarning: \n",
      "A value is trying to be set on a copy of a slice from a DataFrame.\n",
      "Try using .loc[row_indexer,col_indexer] = value instead\n",
      "\n",
      "See the caveats in the documentation: https://pandas.pydata.org/pandas-docs/stable/user_guide/indexing.html#returning-a-view-versus-a-copy\n",
      "  wanted_test_data['KitchenQual'] = wanted_test_data['KitchenQual'].fillna('TA')\n",
      "<ipython-input-18-4ade0b56bba0>:9: SettingWithCopyWarning: \n",
      "A value is trying to be set on a copy of a slice from a DataFrame.\n",
      "Try using .loc[row_indexer,col_indexer] = value instead\n",
      "\n",
      "See the caveats in the documentation: https://pandas.pydata.org/pandas-docs/stable/user_guide/indexing.html#returning-a-view-versus-a-copy\n",
      "  wanted_test_data['GarageCars'] = wanted_test_data['GarageCars'].fillna(mean)\n",
      "<ipython-input-18-4ade0b56bba0>:12: SettingWithCopyWarning: \n",
      "A value is trying to be set on a copy of a slice from a DataFrame.\n",
      "Try using .loc[row_indexer,col_indexer] = value instead\n",
      "\n",
      "See the caveats in the documentation: https://pandas.pydata.org/pandas-docs/stable/user_guide/indexing.html#returning-a-view-versus-a-copy\n",
      "  wanted_test_data['BsmtUnfSF'] = wanted_test_data['BsmtUnfSF'].fillna(mode)\n"
     ]
    }
   ],
   "source": [
    "na_cols = ['GarageCond', 'GarageFinish', 'BsmtQual', 'FireplaceQu']\n",
    "wanted_test_data[na_cols] = wanted_test_data[na_cols].fillna('No')\n",
    "\n",
    "wanted_test_data['TotalBsmtSF'] = wanted_test_data['TotalBsmtSF'].fillna(0)\n",
    "\n",
    "wanted_test_data['KitchenQual'] = wanted_test_data['KitchenQual'].fillna('TA')\n",
    "\n",
    "mean = wanted_test_data['GarageCars'].mean()\n",
    "wanted_test_data['GarageCars'] = wanted_test_data['GarageCars'].fillna(mean)\n",
    "\n",
    "mode = wanted_test_data['BsmtUnfSF'].mean()\n",
    "wanted_test_data['BsmtUnfSF'] = wanted_test_data['BsmtUnfSF'].fillna(mode)"
   ]
  },
  {
   "cell_type": "code",
   "execution_count": 19,
   "metadata": {},
   "outputs": [
    {
     "data": {
      "text/plain": [
       "BldgType        0\n",
       "BsmtQual        0\n",
       "BsmtUnfSF       0\n",
       "CentralAir      0\n",
       "ExterQual       0\n",
       "FireplaceQu     0\n",
       "Foundation      0\n",
       "GarageCars      0\n",
       "GarageCond      0\n",
       "GarageFinish    0\n",
       "GrLivArea       0\n",
       "KitchenQual     0\n",
       "Neighborhood    0\n",
       "OverallQual     0\n",
       "TotalBsmtSF     0\n",
       "YearBuilt       0\n",
       "YearRemodAdd    0\n",
       "dtype: int64"
      ]
     },
     "execution_count": 19,
     "metadata": {},
     "output_type": "execute_result"
    }
   ],
   "source": [
    "wanted_test_data.isnull().sum()"
   ]
  },
  {
   "cell_type": "code",
   "execution_count": 20,
   "metadata": {},
   "outputs": [
    {
     "name": "stderr",
     "output_type": "stream",
     "text": [
      "<ipython-input-20-54372d3edeba>:1: SettingWithCopyWarning: \n",
      "A value is trying to be set on a copy of a slice from a DataFrame.\n",
      "Try using .loc[row_indexer,col_indexer] = value instead\n",
      "\n",
      "See the caveats in the documentation: https://pandas.pydata.org/pandas-docs/stable/user_guide/indexing.html#returning-a-view-versus-a-copy\n",
      "  wanted_test_data[use_cat] = ordinal_encoder.fit_transform(wanted_test_data[use_cat])\n",
      "/opt/anaconda3/lib/python3.8/site-packages/pandas/core/indexing.py:1738: SettingWithCopyWarning: \n",
      "A value is trying to be set on a copy of a slice from a DataFrame.\n",
      "Try using .loc[row_indexer,col_indexer] = value instead\n",
      "\n",
      "See the caveats in the documentation: https://pandas.pydata.org/pandas-docs/stable/user_guide/indexing.html#returning-a-view-versus-a-copy\n",
      "  self._setitem_single_column(loc, value[:, i].tolist(), pi)\n"
     ]
    }
   ],
   "source": [
    "wanted_test_data[use_cat] = ordinal_encoder.fit_transform(wanted_test_data[use_cat])"
   ]
  },
  {
   "cell_type": "code",
   "execution_count": 21,
   "metadata": {},
   "outputs": [],
   "source": [
    "prediction= modelx.predict(wanted_test_data)"
   ]
  },
  {
   "cell_type": "code",
   "execution_count": 22,
   "metadata": {},
   "outputs": [],
   "source": [
    "sample_submission = pd.read_csv('/Users/Nishchay/Python/4. Ames Housing Dataset - Kaggle/home-data-for-ml-course/sample_submission.csv')\n",
    "submission = sample_submission\n",
    "submission.SalePrice = prediction\n",
    "#submission = submission.set_index('Id')\n",
    "submission.head()\n",
    "submission.to_csv('/Users/Nishchay/Python/4. Ames Housing Dataset - Kaggle/home-data-for-ml-course/submission 2.csv', index = False)"
   ]
  }
 ],
 "metadata": {
  "kernelspec": {
   "display_name": "Python 3",
   "language": "python",
   "name": "python3"
  },
  "language_info": {
   "codemirror_mode": {
    "name": "ipython",
    "version": 3
   },
   "file_extension": ".py",
   "mimetype": "text/x-python",
   "name": "python",
   "nbconvert_exporter": "python",
   "pygments_lexer": "ipython3",
   "version": "3.8.8"
  }
 },
 "nbformat": 4,
 "nbformat_minor": 4
}
